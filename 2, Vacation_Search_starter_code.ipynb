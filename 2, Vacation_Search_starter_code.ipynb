{
 "cells": [
  {
   "cell_type": "markdown",
   "metadata": {},
   "source": [
    "## Deliverable 2. Create a Customer Travel Destinations Map."
   ]
  },
  {
   "cell_type": "code",
   "execution_count": 1,
   "metadata": {},
   "outputs": [],
   "source": [
    "import pandas as pd\n",
    "import requests\n",
    "import gmaps\n",
    "\n",
    "from config import g_key\n",
    "gmaps.configure(api_key=g_key)\n"
   ]
  },
  {
   "cell_type": "code",
   "execution_count": 2,
   "metadata": {},
   "outputs": [
    {
     "name": "stdout",
     "output_type": "stream",
     "text": [
      "What is the minimum temperature you would like for your trip? 70\n",
      "What is the maximum temperature you would like for your trip? 78\n"
     ]
    },
    {
     "data": {
      "text/html": [
       "<div>\n",
       "<style scoped>\n",
       "    .dataframe tbody tr th:only-of-type {\n",
       "        vertical-align: middle;\n",
       "    }\n",
       "\n",
       "    .dataframe tbody tr th {\n",
       "        vertical-align: top;\n",
       "    }\n",
       "\n",
       "    .dataframe thead th {\n",
       "        text-align: right;\n",
       "    }\n",
       "</style>\n",
       "<table border=\"1\" class=\"dataframe\">\n",
       "  <thead>\n",
       "    <tr style=\"text-align: right;\">\n",
       "      <th></th>\n",
       "      <th>City</th>\n",
       "      <th>Country</th>\n",
       "      <th>Max Temp</th>\n",
       "      <th>Current Description</th>\n",
       "      <th>Lat</th>\n",
       "      <th>Lng</th>\n",
       "      <th>Hotel Name</th>\n",
       "    </tr>\n",
       "  </thead>\n",
       "  <tbody>\n",
       "    <tr>\n",
       "      <th>3</th>\n",
       "      <td>Bubaque</td>\n",
       "      <td>GW</td>\n",
       "      <td>75.51</td>\n",
       "      <td>few clouds</td>\n",
       "      <td>11.2833</td>\n",
       "      <td>-15.8333</td>\n",
       "      <td></td>\n",
       "    </tr>\n",
       "    <tr>\n",
       "      <th>16</th>\n",
       "      <td>Marsh Harbour</td>\n",
       "      <td>BS</td>\n",
       "      <td>76.87</td>\n",
       "      <td>heavy intensity rain</td>\n",
       "      <td>26.5412</td>\n",
       "      <td>-77.0636</td>\n",
       "      <td></td>\n",
       "    </tr>\n",
       "    <tr>\n",
       "      <th>42</th>\n",
       "      <td>Marzuq</td>\n",
       "      <td>YE</td>\n",
       "      <td>73.65</td>\n",
       "      <td>clear sky</td>\n",
       "      <td>14.4000</td>\n",
       "      <td>46.4667</td>\n",
       "      <td></td>\n",
       "    </tr>\n",
       "    <tr>\n",
       "      <th>46</th>\n",
       "      <td>Imbituba</td>\n",
       "      <td>BR</td>\n",
       "      <td>71.33</td>\n",
       "      <td>overcast clouds</td>\n",
       "      <td>-28.2400</td>\n",
       "      <td>-48.6703</td>\n",
       "      <td></td>\n",
       "    </tr>\n",
       "    <tr>\n",
       "      <th>51</th>\n",
       "      <td>Qiryat Shemona</td>\n",
       "      <td>IL</td>\n",
       "      <td>70.38</td>\n",
       "      <td>overcast clouds</td>\n",
       "      <td>33.2073</td>\n",
       "      <td>35.5721</td>\n",
       "      <td></td>\n",
       "    </tr>\n",
       "  </tbody>\n",
       "</table>\n",
       "</div>"
      ],
      "text/plain": [
       "              City Country  Max Temp   Current Description      Lat      Lng  \\\n",
       "3          Bubaque      GW     75.51            few clouds  11.2833 -15.8333   \n",
       "16   Marsh Harbour      BS     76.87  heavy intensity rain  26.5412 -77.0636   \n",
       "42          Marzuq      YE     73.65             clear sky  14.4000  46.4667   \n",
       "46        Imbituba      BR     71.33       overcast clouds -28.2400 -48.6703   \n",
       "51  Qiryat Shemona      IL     70.38       overcast clouds  33.2073  35.5721   \n",
       "\n",
       "   Hotel Name  \n",
       "3              \n",
       "16             \n",
       "42             \n",
       "46             \n",
       "51             "
      ]
     },
     "execution_count": 2,
     "metadata": {},
     "output_type": "execute_result"
    }
   ],
   "source": [
    "city_data_df = pd.read_csv(\"Weather_Database/WeatherPy_database.csv\")\n",
    "min_temp = float(input(\"What is the minimum temperature you would like for your trip? \"))\n",
    "max_temp = float(input(\"What is the maximum temperature you would like for your trip? \"))\n",
    "\n",
    "\n",
    "clean_city_data_df = city_data_df.loc[(city_data_df[\"Max Temp\"] <= max_temp) & # Create Filtered Dataframe\n",
    "                                (city_data_df[\"Min Temp\"] >= min_temp)]\n",
    "\n",
    "if clean_city_data_df.isna().count()[0] != 0: # If null values, drop them \n",
    "    clean_city_data_df.dropna()\n",
    "\n",
    "    \n",
    "hotel_df = clean_city_data_df[[\"City\", \"Country\", \"Max Temp\", \"Current Description\", \"Lat\", \"Lng\"]].copy()\n",
    "hotel_df[\"Hotel Name\"] = \"\" \n",
    "hotel_df.head()"
   ]
  },
  {
   "cell_type": "code",
   "execution_count": 3,
   "metadata": {},
   "outputs": [
    {
     "name": "stdout",
     "output_type": "stream",
     "text": [
      "Beginning Data Retrieval     \n",
      "-----------------------------\n",
      "19 Cities did not have hotels\n",
      "-----------------------------\n",
      "Data Retrieval Complete      \n",
      "-----------------------------\n"
     ]
    }
   ],
   "source": [
    "print(\"Beginning Data Retrieval     \")\n",
    "print(\"-----------------------------\")\n",
    "\n",
    "parameters = {\"radius\": 5000, \"type\": \"lodging\", \"key\": g_key} # json parameters list for get request\n",
    "nullers = 0\n",
    "\n",
    "for index, row in hotel_df.iterrows():\n",
    "    lat = row[\"Lat\"]\n",
    "    lng = row[\"Lng\"]\n",
    "    parameters[\"location\"] = f\"{lat},{lng}\"\n",
    "    hotels = requests.get(\"https://maps.googleapis.com/maps/api/place/nearbysearch/json\", params=parameters).json()\n",
    "\n",
    "    try:\n",
    "        hotel_df.loc[index, \"Hotel Name\"] = hotels[\"results\"][0][\"name\"] # if there is a hotel in the radius\n",
    "        \n",
    "    except (IndexError):\n",
    "        nullers += 1\n",
    "\n",
    "clean_hotel_df = hotel_df.dropna()\n",
    "clean_hotel_df.to_csv(\"Vacation_Search/WeatherPy_vacation.csv\", index_label=\"Hotel_ID\") # export to csv\n",
    "clean_hotel_df.head()\n",
    "\n",
    "\n",
    "print(f\"{nullers} Cities did not have hotels\")\n",
    "print(\"-----------------------------\")\n",
    "print(\"Data Retrieval Complete      \")\n",
    "print(\"-----------------------------\")"
   ]
  },
  {
   "cell_type": "code",
   "execution_count": 4,
   "metadata": {},
   "outputs": [
    {
     "data": {
      "application/vnd.jupyter.widget-view+json": {
       "model_id": "7695f392b9a845818167dbb0f999ff74",
       "version_major": 2,
       "version_minor": 0
      },
      "text/plain": [
       "Figure(layout=FigureLayout(height='420px'))"
      ]
     },
     "metadata": {},
     "output_type": "display_data"
    }
   ],
   "source": [
    "info_box_template = \"\"\"\n",
    "<dl>\n",
    "<dt>Hotel Name</dt><dd>{Hotel Name}</dd>\n",
    "<dt>City</dt><dd>{City}</dd>\n",
    "<dt>Country</dt><dd>{Country}</dd>\n",
    "<dt>Max Temp</dt><dd>{Max Temp} °F</dd>\n",
    "</dl>\n",
    "\"\"\"\n",
    "\n",
    "hotel_info = [info_box_template.format(**row) for index, row in clean_hotel_df.iterrows()]\n",
    "locations = clean_hotel_df[[\"Lat\", \"Lng\"]]\n",
    "\n",
    "fig = gmaps.figure(center=(30.0, 31.0), zoom_level=1.5)\n",
    "\n",
    "heat_layer = gmaps.heatmap_layer(locations, \n",
    "                                 dissipating=False,\n",
    "                                 max_intensity=300, \n",
    "                                 point_radius=4)\n",
    "\n",
    "marker_layer = gmaps.marker_layer(locations, info_box_content=hotel_info)\n",
    "fig.add_layer(heat_layer)\n",
    "fig.add_layer(marker_layer)\n",
    "\n",
    "fig\n"
   ]
  }
 ],
 "metadata": {
  "kernelspec": {
   "display_name": "Python 3 (ipykernel)",
   "language": "python",
   "name": "python3"
  },
  "language_info": {
   "codemirror_mode": {
    "name": "ipython",
    "version": 3
   },
   "file_extension": ".py",
   "mimetype": "text/x-python",
   "name": "python",
   "nbconvert_exporter": "python",
   "pygments_lexer": "ipython3",
   "version": "3.9.7"
  },
  "latex_envs": {
   "LaTeX_envs_menu_present": true,
   "autoclose": false,
   "autocomplete": true,
   "bibliofile": "biblio.bib",
   "cite_by": "apalike",
   "current_citInitial": 1,
   "eqLabelWithNumbers": true,
   "eqNumInitial": 1,
   "hotkeys": {
    "equation": "Ctrl-E",
    "itemize": "Ctrl-I"
   },
   "labels_anchors": false,
   "latex_user_defs": false,
   "report_style_numbering": false,
   "user_envs_cfg": false
  }
 },
 "nbformat": 4,
 "nbformat_minor": 2
}
