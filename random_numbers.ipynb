{
 "cells": [
  {
   "cell_type": "code",
   "execution_count": 1,
   "id": "ab96e8d3",
   "metadata": {},
   "outputs": [],
   "source": [
    "# redunadant to use random if we import numpy, random is a package within\n",
    "import numpy as np\n",
    "# import random"
   ]
  },
  {
   "cell_type": "code",
   "execution_count": 2,
   "id": "680e907d",
   "metadata": {},
   "outputs": [
    {
     "data": {
      "text/plain": [
       "61"
      ]
     },
     "execution_count": 2,
     "metadata": {},
     "output_type": "execute_result"
    }
   ],
   "source": [
    "# randint(a, b) to get random integer from a range (a,b)\n",
    "np.random.randint(-90, 90)\n",
    "# random.randint(-90, 90)"
   ]
  },
  {
   "cell_type": "code",
   "execution_count": 3,
   "id": "56f756a0",
   "metadata": {},
   "outputs": [
    {
     "data": {
      "text/plain": [
       "0.31519266649795064"
      ]
     },
     "execution_count": 3,
     "metadata": {},
     "output_type": "execute_result"
    }
   ],
   "source": [
    "# get a random number between 0 and 1\n",
    "np.random.random()\n",
    "# random.random()"
   ]
  },
  {
   "cell_type": "code",
   "execution_count": 4,
   "id": "df0677a7",
   "metadata": {},
   "outputs": [
    {
     "data": {
      "text/plain": [
       "-62.73761238051704"
      ]
     },
     "execution_count": 4,
     "metadata": {},
     "output_type": "execute_result"
    }
   ],
   "source": [
    "# create variable to hold random gcs coordinate (lat, long)\n",
    "random_gcs = np.random.randint(-90, 90) + np.random.random()\n",
    "# random_gcs = random.randint(-90, 90) + random.random()\n",
    "random_gcs"
   ]
  },
  {
   "cell_type": "code",
   "execution_count": 5,
   "id": "dc1216ec",
   "metadata": {},
   "outputs": [],
   "source": [
    "# loop through to append a list with coordinates\n",
    "x = 1\n",
    "coordinates = []\n",
    "\n",
    "while x < 11:\n",
    "    random_gcs = np.random.randint(-90, 90) + np.random.random()\n",
    "    # random_gcs = random.randint(-90, 90) + random.random()\n",
    "    coordinates.append(random_gcs)\n",
    "    x += 1"
   ]
  },
  {
   "cell_type": "code",
   "execution_count": 6,
   "id": "26fd1432",
   "metadata": {},
   "outputs": [
    {
     "data": {
      "text/plain": [
       "[-58.87527552428776,\n",
       " -41.87726092447629,\n",
       " 20.830287728470722,\n",
       " -7.367530339382595,\n",
       " 86.2172052534233,\n",
       " 75.92111622610683,\n",
       " 59.033144718038415,\n",
       " -4.753841081897037,\n",
       " 64.48142269987429,\n",
       " -66.39306747500711]"
      ]
     },
     "execution_count": 6,
     "metadata": {},
     "output_type": "execute_result"
    }
   ],
   "source": [
    "coordinates"
   ]
  },
  {
   "cell_type": "code",
   "execution_count": 7,
   "id": "557a46b8",
   "metadata": {},
   "outputs": [
    {
     "data": {
      "text/plain": [
       "42"
      ]
     },
     "execution_count": 7,
     "metadata": {},
     "output_type": "execute_result"
    }
   ],
   "source": [
    "# default step value is 1, but a 3 will add the range counted by 3's\n",
    "import random\n",
    "random.randrange(-90, 90, step = 3)"
   ]
  },
  {
   "cell_type": "code",
   "execution_count": 8,
   "id": "6684c5cb",
   "metadata": {},
   "outputs": [
    {
     "data": {
      "text/plain": [
       "48.66830771945342"
      ]
     },
     "execution_count": 8,
     "metadata": {},
     "output_type": "execute_result"
    }
   ],
   "source": [
    "random.uniform(-90, 90)"
   ]
  },
  {
   "cell_type": "code",
   "execution_count": 9,
   "id": "ac10bebb",
   "metadata": {},
   "outputs": [
    {
     "data": {
      "text/plain": [
       "-9.218188952191511"
      ]
     },
     "execution_count": 9,
     "metadata": {},
     "output_type": "execute_result"
    }
   ],
   "source": [
    "np.random.uniform(-90, 90)"
   ]
  },
  {
   "cell_type": "code",
   "execution_count": 10,
   "id": "3d1b9cb2",
   "metadata": {},
   "outputs": [
    {
     "data": {
      "text/plain": [
       "array([-40.72902901,  73.99803879,  52.62149446, -12.04495031,\n",
       "        89.83706949,  -4.86949976,  25.91264218,  46.17521152,\n",
       "        24.71706563, -41.86598384, -18.97447593,   3.41074221,\n",
       "       -21.64581128, -53.26237181, -25.85197437,   5.99130732,\n",
       "       -13.07912898,  88.45403875, -10.64897477,  52.69625812,\n",
       "       -61.56826351, -64.97325457,  43.10306988, -74.06082202,\n",
       "         6.30893256,  76.55420514, -39.96367925, -70.61862622,\n",
       "       -12.76973343,  23.84221511,  80.90724207, -56.27177139,\n",
       "        31.7906045 ,  33.21021789, -79.66539699,  58.67473021,\n",
       "       -15.95039893, -79.94422436, -37.58365728, -67.71980352,\n",
       "       -83.48687868,   7.87828566, -54.63771595,  42.51647222,\n",
       "       -38.93171138,  70.09276926, -73.34776694, -44.7611282 ,\n",
       "       -74.11078367,  -7.44530976])"
      ]
     },
     "execution_count": 10,
     "metadata": {},
     "output_type": "execute_result"
    }
   ],
   "source": [
    "np.random.uniform(-90.000, 90.000, size = 50)"
   ]
  },
  {
   "cell_type": "code",
   "execution_count": 11,
   "id": "1d7f3b9d",
   "metadata": {},
   "outputs": [
    {
     "name": "stdout",
     "output_type": "stream",
     "text": [
      "18.7 µs ± 1.62 µs per loop (mean ± std. dev. of 7 runs, 100000 loops each)\n"
     ]
    }
   ],
   "source": [
    "import timeit\n",
    "%timeit np.random.uniform(-90.000, 90.000, size = 1500)"
   ]
  },
  {
   "cell_type": "code",
   "execution_count": 12,
   "id": "20149818",
   "metadata": {},
   "outputs": [
    {
     "name": "stdout",
     "output_type": "stream",
     "text": [
      "24.6 ns ± 4.94 ns per loop (mean ± std. dev. of 7 runs, 10000000 loops each)\n"
     ]
    }
   ],
   "source": [
    "# create a function thata takes in a size to return an array that size with gcs coordinates\n",
    "def coordinator(amount):\n",
    "    coordinates = []\n",
    "    \n",
    "    coordinates.append(np.random.uniform(-90.000, 90.000, size = amount))\n",
    "    \n",
    "    return coordinates\n",
    "\n",
    "%timeit coordinator"
   ]
  },
  {
   "cell_type": "code",
   "execution_count": 13,
   "id": "100cb8db",
   "metadata": {},
   "outputs": [
    {
     "data": {
      "text/plain": [
       "[array([ 63.00830883,  20.81326343, -83.58032925,  -9.82234631,\n",
       "          7.50574385,  -4.38478974, -86.5288341 ,  83.83902941,\n",
       "         70.28029487, -57.02790857, -67.37679989, -57.55041313,\n",
       "        -31.30516099,  27.50819555,  11.0880338 , -16.25426954,\n",
       "        -25.73602064,   0.1871754 , -75.9901497 ,  10.0225333 ,\n",
       "          6.90961057, -15.197737  ,  66.76589348,  54.74189687,\n",
       "        -39.11679793,  75.28623384,  -6.20450131,  84.66224768,\n",
       "         -1.20319298,   8.55078934,  26.3728389 , -24.4797815 ,\n",
       "         60.96220797, -64.32272827, -52.22761912,  24.04903804,\n",
       "        -40.71217234, -80.1870748 , -28.65257211,  57.19495462,\n",
       "         32.28399607, -88.91722665,  -6.64690103,  48.73740599,\n",
       "         76.008705  , -55.75070117, -30.49163096, -72.26913237,\n",
       "        -38.34802695,  30.46158355])]"
      ]
     },
     "execution_count": 13,
     "metadata": {},
     "output_type": "execute_result"
    }
   ],
   "source": [
    "coordinator(50)"
   ]
  },
  {
   "cell_type": "code",
   "execution_count": 14,
   "id": "76d9e4c8",
   "metadata": {},
   "outputs": [],
   "source": [
    "import pandas as pd\n",
    "import matplotlib.pyplot as plt"
   ]
  },
  {
   "cell_type": "code",
   "execution_count": 15,
   "id": "ceff6988",
   "metadata": {},
   "outputs": [
    {
     "data": {
      "text/plain": [
       "<zip at 0x7fc7787c1380>"
      ]
     },
     "execution_count": 15,
     "metadata": {},
     "output_type": "execute_result"
    }
   ],
   "source": [
    "# create the coordinates\n",
    "lats = np.random.uniform(-90.000, 90.000, size = 100)\n",
    "longs = np.random.uniform(-90.000, 90.000, size = 100)\n",
    "\n",
    "# zip function allows us to connect these arrays as ordered pairs\n",
    "gcs_coordinates = zip(lats, longs)\n",
    "\n",
    "gcs_coordinates"
   ]
  },
  {
   "cell_type": "code",
   "execution_count": 16,
   "id": "8c221148",
   "metadata": {},
   "outputs": [],
   "source": [
    "# Add the latitudes and longitudes to a list.\n",
    "coordinates = list(gcs_coordinates)"
   ]
  },
  {
   "cell_type": "code",
   "execution_count": 17,
   "id": "2f341857",
   "metadata": {},
   "outputs": [],
   "source": [
    "## pip install citipy\n",
    "from citipy import citipy"
   ]
  },
  {
   "cell_type": "code",
   "execution_count": 18,
   "id": "37de52eb",
   "metadata": {},
   "outputs": [
    {
     "name": "stdout",
     "output_type": "stream",
     "text": [
      "chapais ca\n",
      "bredasdorp za\n",
      "busselton au\n",
      "belushya guba ru\n",
      "parad hu\n",
      "rocha uy\n",
      "narsaq gl\n",
      "salalah om\n",
      "qaanaaq gl\n",
      "cape town za\n",
      "jibuti dj\n",
      "cape town za\n",
      "east london za\n",
      "jamestown sh\n",
      "hermanus za\n",
      "guarda pt\n",
      "saint george bm\n",
      "san lawrenz mt\n",
      "belushya guba ru\n",
      "campos do jordao br\n",
      "salinas ec\n",
      "busselton au\n",
      "arraial do cabo br\n",
      "bambous virieux mu\n",
      "tsihombe mg\n",
      "mto wa mbu tz\n",
      "amderma ru\n",
      "hazorasp uz\n",
      "barentsburg sj\n",
      "ushuaia ar\n",
      "chabahar ir\n",
      "vestmanna fo\n",
      "ponta do sol cv\n",
      "brattleboro us\n",
      "ushuaia ar\n",
      "east london za\n",
      "bredasdorp za\n",
      "torbay ca\n",
      "hammerfest no\n",
      "ushuaia ar\n",
      "longyearbyen sj\n",
      "dikson ru\n",
      "jamestown sh\n",
      "mitsamiouli km\n",
      "port elizabeth za\n",
      "caravelas br\n",
      "margate za\n",
      "georgetown sh\n",
      "cidreira br\n",
      "grand river south east mu\n",
      "illoqqortoormiut gl\n",
      "ushuaia ar\n",
      "georgetown sh\n",
      "mar del plata ar\n",
      "pangnirtung ca\n",
      "manzil salim tn\n",
      "larsnes no\n",
      "buchanan lr\n",
      "klaksvik fo\n",
      "shaygino ru\n",
      "ponta do sol cv\n",
      "taolanaro mg\n",
      "forio it\n",
      "hithadhoo mv\n",
      "mosquera co\n",
      "grand gaube mu\n",
      "riberalta bo\n",
      "vestmannaeyjar is\n",
      "laguna br\n",
      "amderma ru\n",
      "cape town za\n",
      "margate za\n",
      "mossendjo cg\n",
      "siniscola it\n",
      "mar del plata ar\n",
      "necochea ar\n",
      "abha sa\n",
      "punta arenas cl\n",
      "othonoi gr\n",
      "shetpe kz\n",
      "mrirt ma\n",
      "petauke zm\n",
      "ushuaia ar\n",
      "cape town za\n",
      "port alfred za\n",
      "hermanus za\n",
      "sao filipe cv\n",
      "hithadhoo mv\n",
      "hermanus za\n",
      "qaanaaq gl\n",
      "leeds gb\n",
      "ushuaia ar\n",
      "santiago del estero ar\n",
      "barmer in\n",
      "port elizabeth za\n",
      "tapes br\n",
      "balkanabat tm\n",
      "porto seguro br\n",
      "novelda es\n",
      "grand river south east mu\n"
     ]
    }
   ],
   "source": [
    "for coordinate in coordinates:\n",
    "    print(citipy.nearest_city(coordinate[0], coordinate[1]).city_name, # use citipy to get the city name\n",
    "    citipy.nearest_city(coordinate[0], coordinate[1]).country_code) # to get the country code"
   ]
  },
  {
   "cell_type": "code",
   "execution_count": 19,
   "id": "17f13ec9",
   "metadata": {},
   "outputs": [
    {
     "data": {
      "text/plain": [
       "76"
      ]
     },
     "execution_count": 19,
     "metadata": {},
     "output_type": "execute_result"
    }
   ],
   "source": [
    "# Create a list for holding the cities.\n",
    "cities = []\n",
    "\n",
    "# Identify the nearest city for each latitude and longitude combination.\n",
    "for coordinate in coordinates:\n",
    "    city = citipy.nearest_city(coordinate[0], coordinate[1]).city_name\n",
    "\n",
    "    # If the city is unique, then we will add it to the cities list.\n",
    "    if city not in cities:\n",
    "        cities.append(city)\n",
    "# Print the city count to confirm sufficient count.\n",
    "len(cities)"
   ]
  },
  {
   "cell_type": "code",
   "execution_count": 20,
   "id": "17e5b517",
   "metadata": {},
   "outputs": [
    {
     "data": {
      "text/plain": [
       "['chapais',\n",
       " 'bredasdorp',\n",
       " 'busselton',\n",
       " 'belushya guba',\n",
       " 'parad',\n",
       " 'rocha',\n",
       " 'narsaq',\n",
       " 'salalah',\n",
       " 'qaanaaq',\n",
       " 'cape town',\n",
       " 'jibuti',\n",
       " 'east london',\n",
       " 'jamestown',\n",
       " 'hermanus',\n",
       " 'guarda',\n",
       " 'saint george',\n",
       " 'san lawrenz',\n",
       " 'campos do jordao',\n",
       " 'salinas',\n",
       " 'arraial do cabo',\n",
       " 'bambous virieux',\n",
       " 'tsihombe',\n",
       " 'mto wa mbu',\n",
       " 'amderma',\n",
       " 'hazorasp',\n",
       " 'barentsburg',\n",
       " 'ushuaia',\n",
       " 'chabahar',\n",
       " 'vestmanna',\n",
       " 'ponta do sol',\n",
       " 'brattleboro',\n",
       " 'torbay',\n",
       " 'hammerfest',\n",
       " 'longyearbyen',\n",
       " 'dikson',\n",
       " 'mitsamiouli',\n",
       " 'port elizabeth',\n",
       " 'caravelas',\n",
       " 'margate',\n",
       " 'georgetown',\n",
       " 'cidreira',\n",
       " 'grand river south east',\n",
       " 'illoqqortoormiut',\n",
       " 'mar del plata',\n",
       " 'pangnirtung',\n",
       " 'manzil salim',\n",
       " 'larsnes',\n",
       " 'buchanan',\n",
       " 'klaksvik',\n",
       " 'shaygino',\n",
       " 'taolanaro',\n",
       " 'forio',\n",
       " 'hithadhoo',\n",
       " 'mosquera',\n",
       " 'grand gaube',\n",
       " 'riberalta',\n",
       " 'vestmannaeyjar',\n",
       " 'laguna',\n",
       " 'mossendjo',\n",
       " 'siniscola',\n",
       " 'necochea',\n",
       " 'abha',\n",
       " 'punta arenas',\n",
       " 'othonoi',\n",
       " 'shetpe',\n",
       " 'mrirt',\n",
       " 'petauke',\n",
       " 'port alfred',\n",
       " 'sao filipe',\n",
       " 'leeds',\n",
       " 'santiago del estero',\n",
       " 'barmer',\n",
       " 'tapes',\n",
       " 'balkanabat',\n",
       " 'porto seguro',\n",
       " 'novelda']"
      ]
     },
     "execution_count": 20,
     "metadata": {},
     "output_type": "execute_result"
    }
   ],
   "source": [
    "cities"
   ]
  },
  {
   "cell_type": "code",
   "execution_count": 21,
   "id": "278acbbb",
   "metadata": {},
   "outputs": [
    {
     "data": {
      "text/plain": [
       "'2.26.0'"
      ]
     },
     "execution_count": 21,
     "metadata": {},
     "output_type": "execute_result"
    }
   ],
   "source": [
    "import requests\n",
    "requests.__version__"
   ]
  },
  {
   "cell_type": "code",
   "execution_count": 22,
   "id": "81906cce",
   "metadata": {},
   "outputs": [],
   "source": [
    "from config import weather_api_key\n",
    "\n",
    "url = \"http://api.openweathermap.org/data/2.5/weather?units=Imperial&APPID=\" + \"9c52aa93220062a382edb4a8caedfa3a\""
   ]
  },
  {
   "cell_type": "code",
   "execution_count": 23,
   "id": "b18bb98c",
   "metadata": {},
   "outputs": [
    {
     "name": "stdout",
     "output_type": "stream",
     "text": [
      "http://api.openweathermap.org/data/2.5/weather?units=Imperial&APPID=9c52aa93220062a382edb4a8caedfa3a&q=Boston\n"
     ]
    }
   ],
   "source": [
    "# Create an endpoint URL for a city.\n",
    "city_url = url + \"&q=\" + \"Boston\"\n",
    "print(city_url)"
   ]
  },
  {
   "cell_type": "code",
   "execution_count": 24,
   "id": "7a0dd4e9",
   "metadata": {},
   "outputs": [
    {
     "data": {
      "text/plain": [
       "<Response [200]>"
      ]
     },
     "execution_count": 24,
     "metadata": {},
     "output_type": "execute_result"
    }
   ],
   "source": [
    "city_weather = requests.get(city_url)\n",
    "city_weather"
   ]
  },
  {
   "cell_type": "code",
   "execution_count": 25,
   "id": "48114deb",
   "metadata": {},
   "outputs": [
    {
     "data": {
      "text/plain": [
       "<Response [404]>"
      ]
     },
     "execution_count": 25,
     "metadata": {},
     "output_type": "execute_result"
    }
   ],
   "source": [
    "# Create an endpoint URL for a city.\n",
    "city_url = url + \"&q=\" + \"Bston\"\n",
    "city_weather = requests.get(city_url)\n",
    "city_weather"
   ]
  },
  {
   "cell_type": "code",
   "execution_count": 26,
   "id": "43cc2695",
   "metadata": {},
   "outputs": [
    {
     "data": {
      "text/plain": [
       "<Response [200]>"
      ]
     },
     "execution_count": 26,
     "metadata": {},
     "output_type": "execute_result"
    }
   ],
   "source": [
    "# Create an endpoint URL for a city.\n",
    "city_url = url + \"&q=\" + \"Boston\"\n",
    "city_weather = requests.get(city_url)\n",
    "city_weather"
   ]
  },
  {
   "cell_type": "code",
   "execution_count": 27,
   "id": "1ea84d29",
   "metadata": {},
   "outputs": [
    {
     "data": {
      "text/plain": [
       "'{\"coord\":{\"lon\":-71.0598,\"lat\":42.3584},\"weather\":[{\"id\":804,\"main\":\"Clouds\",\"description\":\"overcast clouds\",\"icon\":\"04d\"}],\"base\":\"stations\",\"main\":{\"temp\":66.76,\"feels_like\":65.01,\"temp_min\":61.66,\"temp_max\":69.93,\"pressure\":1011,\"humidity\":40},\"visibility\":10000,\"wind\":{\"speed\":24.16,\"deg\":200,\"gust\":29.93},\"clouds\":{\"all\":100},\"dt\":1650129673,\"sys\":{\"type\":2,\"id\":2013408,\"country\":\"US\",\"sunrise\":1650103290,\"sunset\":1650151567},\"timezone\":-14400,\"id\":4930956,\"name\":\"Boston\",\"cod\":200}'"
      ]
     },
     "execution_count": 27,
     "metadata": {},
     "output_type": "execute_result"
    }
   ],
   "source": [
    "# Get the text of the 'Get' request.\n",
    "city_weather.text"
   ]
  },
  {
   "cell_type": "code",
   "execution_count": 28,
   "id": "b598eb4f",
   "metadata": {},
   "outputs": [
    {
     "data": {
      "text/plain": [
       "{'coord': {'lon': -71.0598, 'lat': 42.3584},\n",
       " 'weather': [{'id': 804,\n",
       "   'main': 'Clouds',\n",
       "   'description': 'overcast clouds',\n",
       "   'icon': '04d'}],\n",
       " 'base': 'stations',\n",
       " 'main': {'temp': 66.76,\n",
       "  'feels_like': 65.01,\n",
       "  'temp_min': 61.66,\n",
       "  'temp_max': 69.93,\n",
       "  'pressure': 1011,\n",
       "  'humidity': 40},\n",
       " 'visibility': 10000,\n",
       " 'wind': {'speed': 24.16, 'deg': 200, 'gust': 29.93},\n",
       " 'clouds': {'all': 100},\n",
       " 'dt': 1650129673,\n",
       " 'sys': {'type': 2,\n",
       "  'id': 2013408,\n",
       "  'country': 'US',\n",
       "  'sunrise': 1650103290,\n",
       "  'sunset': 1650151567},\n",
       " 'timezone': -14400,\n",
       " 'id': 4930956,\n",
       " 'name': 'Boston',\n",
       " 'cod': 200}"
      ]
     },
     "execution_count": 28,
     "metadata": {},
     "output_type": "execute_result"
    }
   ],
   "source": [
    "# Get the JSON text of the 'Get' request.\n",
    "city_weather.json()"
   ]
  },
  {
   "cell_type": "code",
   "execution_count": 29,
   "id": "098bf0cf",
   "metadata": {},
   "outputs": [
    {
     "name": "stdout",
     "output_type": "stream",
     "text": [
      "City Weather found.\n"
     ]
    }
   ],
   "source": [
    "# Create an endpoint URL for a city.\n",
    "city_url = url + \"&q=\" + \"Boston\"\n",
    "city_weather = requests.get(city_url)\n",
    "if city_weather.status_code == 200:\n",
    "    print(f\"City Weather found.\")\n",
    "else:\n",
    "    print(f\"City weather not found.\")"
   ]
  },
  {
   "cell_type": "code",
   "execution_count": 30,
   "id": "60ac873b",
   "metadata": {},
   "outputs": [
    {
     "name": "stdout",
     "output_type": "stream",
     "text": [
      "City weather not found.\n"
     ]
    }
   ],
   "source": [
    "# Create an endpoint URL for a city.\n",
    "city_url = url + \"&q=\" + \"Bston\"\n",
    "city_weather = requests.get(city_url)\n",
    "if city_weather.status_code == 200:\n",
    "    print(f\"City Weather found.\")\n",
    "else:\n",
    "    print(f\"City weather not found.\")"
   ]
  },
  {
   "cell_type": "code",
   "execution_count": 31,
   "id": "35975dac",
   "metadata": {},
   "outputs": [
    {
     "data": {
      "text/plain": [
       "{'coord': {'lon': -71.0598, 'lat': 42.3584},\n",
       " 'weather': [{'id': 804,\n",
       "   'main': 'Clouds',\n",
       "   'description': 'overcast clouds',\n",
       "   'icon': '04d'}],\n",
       " 'base': 'stations',\n",
       " 'main': {'temp': 66.76,\n",
       "  'feels_like': 65.01,\n",
       "  'temp_min': 61.66,\n",
       "  'temp_max': 69.93,\n",
       "  'pressure': 1011,\n",
       "  'humidity': 40},\n",
       " 'visibility': 10000,\n",
       " 'wind': {'speed': 24.16, 'deg': 200, 'gust': 29.93},\n",
       " 'clouds': {'all': 100},\n",
       " 'dt': 1650129673,\n",
       " 'sys': {'type': 2,\n",
       "  'id': 2013408,\n",
       "  'country': 'US',\n",
       "  'sunrise': 1650103290,\n",
       "  'sunset': 1650151567},\n",
       " 'timezone': -14400,\n",
       " 'id': 4930956,\n",
       " 'name': 'Boston',\n",
       " 'cod': 200}"
      ]
     },
     "execution_count": 31,
     "metadata": {},
     "output_type": "execute_result"
    }
   ],
   "source": [
    "# Create an endpoint URL for a city.\n",
    "city_url = url + \"&q=\" + \"Boston\"\n",
    "city_weather = requests.get(city_url)\n",
    "city_weather.json()"
   ]
  },
  {
   "cell_type": "code",
   "execution_count": 32,
   "id": "b20f24f2",
   "metadata": {},
   "outputs": [],
   "source": [
    "# Get the JSON data.\n",
    "boston_data = city_weather.json()"
   ]
  },
  {
   "cell_type": "code",
   "execution_count": 33,
   "id": "9f8f169b",
   "metadata": {},
   "outputs": [
    {
     "data": {
      "text/plain": [
       "{'type': 2,\n",
       " 'id': 2013408,\n",
       " 'country': 'US',\n",
       " 'sunrise': 1650103290,\n",
       " 'sunset': 1650151567}"
      ]
     },
     "execution_count": 33,
     "metadata": {},
     "output_type": "execute_result"
    }
   ],
   "source": [
    "# Get the JSON data.\n",
    "boston_data[\"sys\"]"
   ]
  },
  {
   "cell_type": "code",
   "execution_count": 34,
   "id": "2a968c4c",
   "metadata": {},
   "outputs": [
    {
     "data": {
      "text/plain": [
       "1650129673"
      ]
     },
     "execution_count": 34,
     "metadata": {},
     "output_type": "execute_result"
    }
   ],
   "source": [
    "boston_data[\"dt\"]"
   ]
  },
  {
   "cell_type": "code",
   "execution_count": 35,
   "id": "40f1b4d2",
   "metadata": {},
   "outputs": [
    {
     "data": {
      "text/plain": [
       "42.3584"
      ]
     },
     "execution_count": 35,
     "metadata": {},
     "output_type": "execute_result"
    }
   ],
   "source": [
    "boston_data[\"coord\"][\"lat\"]"
   ]
  },
  {
   "cell_type": "code",
   "execution_count": 36,
   "id": "f3c7e968",
   "metadata": {},
   "outputs": [
    {
     "name": "stdout",
     "output_type": "stream",
     "text": [
      "42.3584 -71.0598 69.93 40 100 24.16\n"
     ]
    }
   ],
   "source": [
    "lat = boston_data[\"coord\"][\"lat\"]\n",
    "lng = boston_data[\"coord\"][\"lon\"]\n",
    "max_temp = boston_data[\"main\"][\"temp_max\"]\n",
    "humidity = boston_data[\"main\"][\"humidity\"]\n",
    "clouds = boston_data[\"clouds\"][\"all\"]\n",
    "wind = boston_data[\"wind\"][\"speed\"]\n",
    "print(lat, lng, max_temp, humidity, clouds, wind)"
   ]
  },
  {
   "cell_type": "code",
   "execution_count": 37,
   "id": "a0e89918",
   "metadata": {},
   "outputs": [
    {
     "data": {
      "text/plain": [
       "datetime.datetime(2022, 4, 16, 17, 21, 13)"
      ]
     },
     "execution_count": 37,
     "metadata": {},
     "output_type": "execute_result"
    }
   ],
   "source": [
    "# Import the datetime module from the datetime library.\n",
    "from datetime import datetime\n",
    "\n",
    "# Get the date from the JSON file.\n",
    "date = boston_data[\"dt\"]\n",
    "\n",
    "# Convert the UTC date to a date format with year, month, day, hours, minutes, and seconds.\n",
    "datetime.utcfromtimestamp(date)"
   ]
  },
  {
   "cell_type": "code",
   "execution_count": 38,
   "id": "fd60a538",
   "metadata": {},
   "outputs": [
    {
     "data": {
      "text/plain": [
       "'2022-04-16 17:21:13'"
      ]
     },
     "execution_count": 38,
     "metadata": {},
     "output_type": "execute_result"
    }
   ],
   "source": [
    "datetime.utcfromtimestamp(date).strftime('%Y-%m-%d %H:%M:%S')"
   ]
  },
  {
   "cell_type": "code",
   "execution_count": 39,
   "id": "f6560da6",
   "metadata": {},
   "outputs": [],
   "source": [
    "# Import the time library and the datetime module from the datetime library \n",
    "import time\n",
    "from datetime import datetime"
   ]
  },
  {
   "cell_type": "code",
   "execution_count": 40,
   "id": "754b61be",
   "metadata": {},
   "outputs": [],
   "source": [
    "# Create an empty list to hold the weather data.\n",
    "#city_data = []\n",
    "\n",
    "# Print the beginning of the logging.\n",
    "#print(\"Beginning Data Retrieval     \")\n",
    "#print(\"-----------------------------\")\n",
    "\n",
    "# Create counters.\n",
    "#record_count = 1\n",
    "#set_count = 1\n",
    "\n",
    "# Loop through all the cities in our list.\n",
    "#for i in range(len(cities)):\n",
    "\n",
    "    # Group cities in sets of 50 for logging purposes.\n",
    "    #if (i % 50 == 0 and i >= 50):\n",
    "        #set_count += 1\n",
    "        #record_count = 1\n",
    "        #time.sleep(60)\n",
    "\n",
    "    # Create endpoint URL with each city.\n",
    "    #city_url = url + \"&q=\" + cities[i]"
   ]
  },
  {
   "cell_type": "code",
   "execution_count": 41,
   "id": "e0afb163",
   "metadata": {},
   "outputs": [
    {
     "name": "stdout",
     "output_type": "stream",
     "text": [
      "Beginning Data Retrieval     \n",
      "-----------------------------\n",
      "City not found. Skipping...\n",
      "City not found. Skipping...\n",
      "City not found. Skipping...\n",
      "City not found. Skipping...\n",
      "City not found. Skipping...\n",
      "City not found. Skipping...\n",
      "City not found. Skipping...\n",
      "City not found. Skipping...\n",
      "City not found. Skipping...\n",
      "-----------------------------\n",
      "Data Retrieval Complete      \n",
      "-----------------------------\n"
     ]
    }
   ],
   "source": [
    "# Create an empty list to hold the weather data.\n",
    "city_data = []\n",
    "\n",
    "# Print the beginning of the logging.\n",
    "print(\"Beginning Data Retrieval     \")\n",
    "print(\"-----------------------------\")\n",
    "\n",
    "# Create counters.\n",
    "record_count = 1\n",
    "set_count = 1\n",
    "\n",
    "# Loop through all the cities in the list.\n",
    "for i, city in enumerate(cities):\n",
    "\n",
    "    # Group cities in sets of 50 for logging purposes.\n",
    "    if (i % 50 == 0 and i >= 50):\n",
    "        set_count += 1\n",
    "        record_count = 1\n",
    "        time.sleep(60) # stop any opperations for 60 seconds\n",
    "\n",
    "    # Create endpoint URL with each city.\n",
    "    city_url = url + \"&q=\" + city.replace(\" \",\"+\")\n",
    "\n",
    "    try:\n",
    "    # Parse the JSON and retrieve data.\n",
    "        city_weather = requests.get(city_url).json()\n",
    "        \n",
    "    # Parse out the needed data.\n",
    "        city_lat = city_weather[\"coord\"][\"lat\"]\n",
    "        city_lng = city_weather[\"coord\"][\"lon\"]\n",
    "        city_max_temp = city_weather[\"main\"][\"temp_max\"]\n",
    "        city_humidity = city_weather[\"main\"][\"humidity\"]\n",
    "        city_clouds = city_weather[\"clouds\"][\"all\"]\n",
    "        city_wind = city_weather[\"wind\"][\"speed\"]\n",
    "        city_country = city_weather[\"sys\"][\"country\"]\n",
    "        \n",
    "    # Convert the date to ISO standard.\n",
    "        city_date = datetime.utcfromtimestamp(city_weather[\"dt\"]).strftime('%Y-%m-%d %H:%M:%S')\n",
    "        \n",
    "    # Append the city information into city_data list.\n",
    "        city_data.append({\"City\": city.title(),\n",
    "                          \"Lat\": city_lat,\n",
    "                          \"Lng\": city_lng,\n",
    "                          \"Max Temp\": city_max_temp,\n",
    "                          \"Humidity\": city_humidity,\n",
    "                          \"Cloudiness\": city_clouds,\n",
    "                          \"Wind Speed\": city_wind,\n",
    "                          \"Country\": city_country,\n",
    "                          \"Date\": city_date})\n",
    "\n",
    "    # If an error is experienced, skip the city.\n",
    "    except:\n",
    "        print(\"City not found. Skipping...\")\n",
    "        pass\n",
    "    \n",
    "    # Add 1 to the record count.\n",
    "    record_count += 1\n",
    "    \n",
    "# Indicate that Data Loading is complete.\n",
    "print(\"-----------------------------\")\n",
    "print(\"Data Retrieval Complete      \")\n",
    "print(\"-----------------------------\")"
   ]
  },
  {
   "cell_type": "code",
   "execution_count": 42,
   "id": "80e30a5c",
   "metadata": {},
   "outputs": [],
   "source": [
    "# try:\n",
    "  # Do something\n",
    "# except:\n",
    "  # print(\"An exception occurred\")\n"
   ]
  },
  {
   "cell_type": "code",
   "execution_count": 43,
   "id": "8e44eb74",
   "metadata": {},
   "outputs": [
    {
     "data": {
      "text/plain": [
       "[{'City': 'Chapais',\n",
       "  'Lat': 49.7834,\n",
       "  'Lng': -74.8492,\n",
       "  'Max Temp': 31.78,\n",
       "  'Humidity': 72,\n",
       "  'Cloudiness': 99,\n",
       "  'Wind Speed': 11.65,\n",
       "  'Country': 'CA',\n",
       "  'Date': '2022-04-16 17:24:39'},\n",
       " {'City': 'Bredasdorp',\n",
       "  'Lat': -34.5322,\n",
       "  'Lng': 20.0403,\n",
       "  'Max Temp': 60.4,\n",
       "  'Humidity': 66,\n",
       "  'Cloudiness': 43,\n",
       "  'Wind Speed': 15.12,\n",
       "  'Country': 'ZA',\n",
       "  'Date': '2022-04-16 17:22:08'},\n",
       " {'City': 'Busselton',\n",
       "  'Lat': -33.65,\n",
       "  'Lng': 115.3333,\n",
       "  'Max Temp': 59.9,\n",
       "  'Humidity': 75,\n",
       "  'Cloudiness': 75,\n",
       "  'Wind Speed': 11.7,\n",
       "  'Country': 'AU',\n",
       "  'Date': '2022-04-16 17:24:40'},\n",
       " {'City': 'Parad',\n",
       "  'Lat': 47.9232,\n",
       "  'Lng': 20.0297,\n",
       "  'Max Temp': 44.91,\n",
       "  'Humidity': 57,\n",
       "  'Cloudiness': 90,\n",
       "  'Wind Speed': 14.52,\n",
       "  'Country': 'HU',\n",
       "  'Date': '2022-04-16 17:24:40'},\n",
       " {'City': 'Rocha',\n",
       "  'Lat': -34.4833,\n",
       "  'Lng': -54.3333,\n",
       "  'Max Temp': 67.93,\n",
       "  'Humidity': 56,\n",
       "  'Cloudiness': 87,\n",
       "  'Wind Speed': 5.68,\n",
       "  'Country': 'UY',\n",
       "  'Date': '2022-04-16 17:24:41'},\n",
       " {'City': 'Narsaq',\n",
       "  'Lat': 60.9167,\n",
       "  'Lng': -46.05,\n",
       "  'Max Temp': 41.22,\n",
       "  'Humidity': 63,\n",
       "  'Cloudiness': 1,\n",
       "  'Wind Speed': 1.72,\n",
       "  'Country': 'GL',\n",
       "  'Date': '2022-04-16 17:24:41'},\n",
       " {'City': 'Salalah',\n",
       "  'Lat': 17.0151,\n",
       "  'Lng': 54.0924,\n",
       "  'Max Temp': 82.49,\n",
       "  'Humidity': 83,\n",
       "  'Cloudiness': 20,\n",
       "  'Wind Speed': 6.91,\n",
       "  'Country': 'OM',\n",
       "  'Date': '2022-04-16 17:24:42'},\n",
       " {'City': 'Qaanaaq',\n",
       "  'Lat': 77.484,\n",
       "  'Lng': -69.3632,\n",
       "  'Max Temp': -8.86,\n",
       "  'Humidity': 74,\n",
       "  'Cloudiness': 77,\n",
       "  'Wind Speed': 8.05,\n",
       "  'Country': 'GL',\n",
       "  'Date': '2022-04-16 17:24:42'},\n",
       " {'City': 'Cape Town',\n",
       "  'Lat': -33.9258,\n",
       "  'Lng': 18.4232,\n",
       "  'Max Temp': 66.11,\n",
       "  'Humidity': 57,\n",
       "  'Cloudiness': 0,\n",
       "  'Wind Speed': 13,\n",
       "  'Country': 'ZA',\n",
       "  'Date': '2022-04-16 17:19:31'},\n",
       " {'City': 'Jibuti',\n",
       "  'Lat': 11.5,\n",
       "  'Lng': 42.5,\n",
       "  'Max Temp': 82.02,\n",
       "  'Humidity': 43,\n",
       "  'Cloudiness': 11,\n",
       "  'Wind Speed': 10.16,\n",
       "  'Country': 'DJ',\n",
       "  'Date': '2022-04-16 17:24:42'},\n",
       " {'City': 'East London',\n",
       "  'Lat': -33.0153,\n",
       "  'Lng': 27.9116,\n",
       "  'Max Temp': 59.94,\n",
       "  'Humidity': 94,\n",
       "  'Cloudiness': 20,\n",
       "  'Wind Speed': 2.3,\n",
       "  'Country': 'ZA',\n",
       "  'Date': '2022-04-16 17:16:02'},\n",
       " {'City': 'Jamestown',\n",
       "  'Lat': 42.097,\n",
       "  'Lng': -79.2353,\n",
       "  'Max Temp': 45.01,\n",
       "  'Humidity': 69,\n",
       "  'Cloudiness': 75,\n",
       "  'Wind Speed': 14.97,\n",
       "  'Country': 'US',\n",
       "  'Date': '2022-04-16 17:20:47'},\n",
       " {'City': 'Hermanus',\n",
       "  'Lat': -34.4187,\n",
       "  'Lng': 19.2345,\n",
       "  'Max Temp': 59.81,\n",
       "  'Humidity': 69,\n",
       "  'Cloudiness': 1,\n",
       "  'Wind Speed': 21.27,\n",
       "  'Country': 'ZA',\n",
       "  'Date': '2022-04-16 17:17:23'},\n",
       " {'City': 'Guarda',\n",
       "  'Lat': 40.5373,\n",
       "  'Lng': -7.2658,\n",
       "  'Max Temp': 71.91,\n",
       "  'Humidity': 41,\n",
       "  'Cloudiness': 21,\n",
       "  'Wind Speed': 4.29,\n",
       "  'Country': 'PT',\n",
       "  'Date': '2022-04-16 17:24:43'},\n",
       " {'City': 'Saint George',\n",
       "  'Lat': 37.1041,\n",
       "  'Lng': -113.5841,\n",
       "  'Max Temp': 72.25,\n",
       "  'Humidity': 22,\n",
       "  'Cloudiness': 0,\n",
       "  'Wind Speed': 13.8,\n",
       "  'Country': 'US',\n",
       "  'Date': '2022-04-16 17:15:35'},\n",
       " {'City': 'San Lawrenz',\n",
       "  'Lat': 36.0553,\n",
       "  'Lng': 14.204,\n",
       "  'Max Temp': 59.86,\n",
       "  'Humidity': 77,\n",
       "  'Cloudiness': 82,\n",
       "  'Wind Speed': 1.99,\n",
       "  'Country': 'MT',\n",
       "  'Date': '2022-04-16 17:24:44'},\n",
       " {'City': 'Campos Do Jordao',\n",
       "  'Lat': -22.7394,\n",
       "  'Lng': -45.5914,\n",
       "  'Max Temp': 64.54,\n",
       "  'Humidity': 56,\n",
       "  'Cloudiness': 17,\n",
       "  'Wind Speed': 4.85,\n",
       "  'Country': 'BR',\n",
       "  'Date': '2022-04-16 17:24:44'},\n",
       " {'City': 'Salinas',\n",
       "  'Lat': 36.6777,\n",
       "  'Lng': -121.6555,\n",
       "  'Max Temp': 58.82,\n",
       "  'Humidity': 81,\n",
       "  'Cloudiness': 75,\n",
       "  'Wind Speed': 13.8,\n",
       "  'Country': 'US',\n",
       "  'Date': '2022-04-16 17:24:44'},\n",
       " {'City': 'Arraial Do Cabo',\n",
       "  'Lat': -22.9661,\n",
       "  'Lng': -42.0278,\n",
       "  'Max Temp': 75.16,\n",
       "  'Humidity': 69,\n",
       "  'Cloudiness': 40,\n",
       "  'Wind Speed': 21.85,\n",
       "  'Country': 'BR',\n",
       "  'Date': '2022-04-16 17:24:18'},\n",
       " {'City': 'Bambous Virieux',\n",
       "  'Lat': -20.3428,\n",
       "  'Lng': 57.7575,\n",
       "  'Max Temp': 78.22,\n",
       "  'Humidity': 78,\n",
       "  'Cloudiness': 40,\n",
       "  'Wind Speed': 10.36,\n",
       "  'Country': 'MU',\n",
       "  'Date': '2022-04-16 17:22:05'},\n",
       " {'City': 'Mto Wa Mbu',\n",
       "  'Lat': -3.35,\n",
       "  'Lng': 35.85,\n",
       "  'Max Temp': 70.2,\n",
       "  'Humidity': 87,\n",
       "  'Cloudiness': 100,\n",
       "  'Wind Speed': 6.38,\n",
       "  'Country': 'TZ',\n",
       "  'Date': '2022-04-16 17:22:46'},\n",
       " {'City': 'Hazorasp',\n",
       "  'Lat': 41.3194,\n",
       "  'Lng': 61.0742,\n",
       "  'Max Temp': 64.24,\n",
       "  'Humidity': 38,\n",
       "  'Cloudiness': 95,\n",
       "  'Wind Speed': 19.17,\n",
       "  'Country': 'UZ',\n",
       "  'Date': '2022-04-16 17:24:45'},\n",
       " {'City': 'Ushuaia',\n",
       "  'Lat': -54.8,\n",
       "  'Lng': -68.3,\n",
       "  'Max Temp': 44.26,\n",
       "  'Humidity': 61,\n",
       "  'Cloudiness': 75,\n",
       "  'Wind Speed': 13.8,\n",
       "  'Country': 'AR',\n",
       "  'Date': '2022-04-16 17:17:20'},\n",
       " {'City': 'Chabahar',\n",
       "  'Lat': 25.2919,\n",
       "  'Lng': 60.643,\n",
       "  'Max Temp': 84.51,\n",
       "  'Humidity': 60,\n",
       "  'Cloudiness': 48,\n",
       "  'Wind Speed': 8.25,\n",
       "  'Country': 'IR',\n",
       "  'Date': '2022-04-16 17:24:46'},\n",
       " {'City': 'Vestmanna',\n",
       "  'Lat': 62.1564,\n",
       "  'Lng': -7.1664,\n",
       "  'Max Temp': 45.52,\n",
       "  'Humidity': 93,\n",
       "  'Cloudiness': 100,\n",
       "  'Wind Speed': 17.27,\n",
       "  'Country': 'FO',\n",
       "  'Date': '2022-04-16 17:24:46'},\n",
       " {'City': 'Ponta Do Sol',\n",
       "  'Lat': 32.6667,\n",
       "  'Lng': -17.1,\n",
       "  'Max Temp': 75.13,\n",
       "  'Humidity': 38,\n",
       "  'Cloudiness': 100,\n",
       "  'Wind Speed': 7.34,\n",
       "  'Country': 'PT',\n",
       "  'Date': '2022-04-16 17:24:47'},\n",
       " {'City': 'Brattleboro',\n",
       "  'Lat': 42.8509,\n",
       "  'Lng': -72.5579,\n",
       "  'Max Temp': 61.21,\n",
       "  'Humidity': 61,\n",
       "  'Cloudiness': 100,\n",
       "  'Wind Speed': 3,\n",
       "  'Country': 'US',\n",
       "  'Date': '2022-04-16 17:24:47'},\n",
       " {'City': 'Torbay',\n",
       "  'Lat': 47.6666,\n",
       "  'Lng': -52.7314,\n",
       "  'Max Temp': 54.75,\n",
       "  'Humidity': 58,\n",
       "  'Cloudiness': 0,\n",
       "  'Wind Speed': 27.63,\n",
       "  'Country': 'CA',\n",
       "  'Date': '2022-04-16 17:15:17'},\n",
       " {'City': 'Hammerfest',\n",
       "  'Lat': 70.6634,\n",
       "  'Lng': 23.6821,\n",
       "  'Max Temp': 39.65,\n",
       "  'Humidity': 93,\n",
       "  'Cloudiness': 100,\n",
       "  'Wind Speed': 23.02,\n",
       "  'Country': 'NO',\n",
       "  'Date': '2022-04-16 17:20:49'},\n",
       " {'City': 'Longyearbyen',\n",
       "  'Lat': 78.2186,\n",
       "  'Lng': 15.6401,\n",
       "  'Max Temp': 26.44,\n",
       "  'Humidity': 80,\n",
       "  'Cloudiness': 75,\n",
       "  'Wind Speed': 12.66,\n",
       "  'Country': 'SJ',\n",
       "  'Date': '2022-04-16 17:19:37'},\n",
       " {'City': 'Dikson',\n",
       "  'Lat': 73.5069,\n",
       "  'Lng': 80.5464,\n",
       "  'Max Temp': 12.96,\n",
       "  'Humidity': 94,\n",
       "  'Cloudiness': 100,\n",
       "  'Wind Speed': 15.41,\n",
       "  'Country': 'RU',\n",
       "  'Date': '2022-04-16 17:24:48'},\n",
       " {'City': 'Mitsamiouli',\n",
       "  'Lat': -11.3847,\n",
       "  'Lng': 43.2844,\n",
       "  'Max Temp': 82.69,\n",
       "  'Humidity': 75,\n",
       "  'Cloudiness': 7,\n",
       "  'Wind Speed': 5.79,\n",
       "  'Country': 'KM',\n",
       "  'Date': '2022-04-16 17:24:48'},\n",
       " {'City': 'Port Elizabeth',\n",
       "  'Lat': -33.918,\n",
       "  'Lng': 25.5701,\n",
       "  'Max Temp': 62.31,\n",
       "  'Humidity': 78,\n",
       "  'Cloudiness': 0,\n",
       "  'Wind Speed': 5.75,\n",
       "  'Country': 'ZA',\n",
       "  'Date': '2022-04-16 17:17:25'},\n",
       " {'City': 'Caravelas',\n",
       "  'Lat': -17.7125,\n",
       "  'Lng': -39.2481,\n",
       "  'Max Temp': 79.05,\n",
       "  'Humidity': 67,\n",
       "  'Cloudiness': 100,\n",
       "  'Wind Speed': 11.86,\n",
       "  'Country': 'BR',\n",
       "  'Date': '2022-04-16 17:19:32'},\n",
       " {'City': 'Margate',\n",
       "  'Lat': 51.3813,\n",
       "  'Lng': 1.3862,\n",
       "  'Max Temp': 53.87,\n",
       "  'Humidity': 79,\n",
       "  'Cloudiness': 3,\n",
       "  'Wind Speed': 4,\n",
       "  'Country': 'GB',\n",
       "  'Date': '2022-04-16 17:21:00'},\n",
       " {'City': 'Georgetown',\n",
       "  'Lat': 5.4112,\n",
       "  'Lng': 100.3354,\n",
       "  'Max Temp': 82.33,\n",
       "  'Humidity': 88,\n",
       "  'Cloudiness': 20,\n",
       "  'Wind Speed': 2.3,\n",
       "  'Country': 'MY',\n",
       "  'Date': '2022-04-16 17:23:31'},\n",
       " {'City': 'Cidreira',\n",
       "  'Lat': -30.1811,\n",
       "  'Lng': -50.2056,\n",
       "  'Max Temp': 68.14,\n",
       "  'Humidity': 57,\n",
       "  'Cloudiness': 99,\n",
       "  'Wind Speed': 4.88,\n",
       "  'Country': 'BR',\n",
       "  'Date': '2022-04-16 17:17:28'},\n",
       " {'City': 'Mar Del Plata',\n",
       "  'Lat': -38.0023,\n",
       "  'Lng': -57.5575,\n",
       "  'Max Temp': 68.02,\n",
       "  'Humidity': 79,\n",
       "  'Cloudiness': 20,\n",
       "  'Wind Speed': 12.66,\n",
       "  'Country': 'AR',\n",
       "  'Date': '2022-04-16 17:19:28'},\n",
       " {'City': 'Pangnirtung',\n",
       "  'Lat': 66.1451,\n",
       "  'Lng': -65.7125,\n",
       "  'Max Temp': 5,\n",
       "  'Humidity': 66,\n",
       "  'Cloudiness': 20,\n",
       "  'Wind Speed': 4.61,\n",
       "  'Country': 'CA',\n",
       "  'Date': '2022-04-16 17:24:50'},\n",
       " {'City': 'Manzil Salim',\n",
       "  'Lat': 35.8567,\n",
       "  'Lng': 8.4765,\n",
       "  'Max Temp': 57.92,\n",
       "  'Humidity': 47,\n",
       "  'Cloudiness': 82,\n",
       "  'Wind Speed': 16.49,\n",
       "  'Country': 'TN',\n",
       "  'Date': '2022-04-16 17:24:50'},\n",
       " {'City': 'Larsnes',\n",
       "  'Lat': 62.2028,\n",
       "  'Lng': 5.5773,\n",
       "  'Max Temp': 52.39,\n",
       "  'Humidity': 70,\n",
       "  'Cloudiness': 100,\n",
       "  'Wind Speed': 10.92,\n",
       "  'Country': 'NO',\n",
       "  'Date': '2022-04-16 17:24:50'},\n",
       " {'City': 'Buchanan',\n",
       "  'Lat': 5.8808,\n",
       "  'Lng': -10.0467,\n",
       "  'Max Temp': 83.3,\n",
       "  'Humidity': 75,\n",
       "  'Cloudiness': 91,\n",
       "  'Wind Speed': 7.56,\n",
       "  'Country': 'LR',\n",
       "  'Date': '2022-04-16 17:24:51'},\n",
       " {'City': 'Klaksvik',\n",
       "  'Lat': 62.2266,\n",
       "  'Lng': -6.589,\n",
       "  'Max Temp': 49.12,\n",
       "  'Humidity': 91,\n",
       "  'Cloudiness': 96,\n",
       "  'Wind Speed': 18.43,\n",
       "  'Country': 'FO',\n",
       "  'Date': '2022-04-16 17:20:46'},\n",
       " {'City': 'Shaygino',\n",
       "  'Lat': 57.7675,\n",
       "  'Lng': 46.8618,\n",
       "  'Max Temp': 30.67,\n",
       "  'Humidity': 82,\n",
       "  'Cloudiness': 100,\n",
       "  'Wind Speed': 5.75,\n",
       "  'Country': 'RU',\n",
       "  'Date': '2022-04-16 17:24:51'},\n",
       " {'City': 'Forio',\n",
       "  'Lat': 40.7342,\n",
       "  'Lng': 13.8646,\n",
       "  'Max Temp': 70.92,\n",
       "  'Humidity': 71,\n",
       "  'Cloudiness': 82,\n",
       "  'Wind Speed': 6.24,\n",
       "  'Country': 'IT',\n",
       "  'Date': '2022-04-16 17:18:12'},\n",
       " {'City': 'Hithadhoo',\n",
       "  'Lat': -0.6,\n",
       "  'Lng': 73.0833,\n",
       "  'Max Temp': 83.48,\n",
       "  'Humidity': 64,\n",
       "  'Cloudiness': 99,\n",
       "  'Wind Speed': 3.09,\n",
       "  'Country': 'MV',\n",
       "  'Date': '2022-04-16 17:17:24'},\n",
       " {'City': 'Mosquera',\n",
       "  'Lat': 4.7059,\n",
       "  'Lng': -74.2302,\n",
       "  'Max Temp': 68.09,\n",
       "  'Humidity': 49,\n",
       "  'Cloudiness': 75,\n",
       "  'Wind Speed': 14.97,\n",
       "  'Country': 'CO',\n",
       "  'Date': '2022-04-16 17:25:52'},\n",
       " {'City': 'Grand Gaube',\n",
       "  'Lat': -20.0064,\n",
       "  'Lng': 57.6608,\n",
       "  'Max Temp': 78.39,\n",
       "  'Humidity': 80,\n",
       "  'Cloudiness': 17,\n",
       "  'Wind Speed': 5.99,\n",
       "  'Country': 'MU',\n",
       "  'Date': '2022-04-16 17:17:28'},\n",
       " {'City': 'Riberalta',\n",
       "  'Lat': -10.9833,\n",
       "  'Lng': -66.1,\n",
       "  'Max Temp': 86.2,\n",
       "  'Humidity': 70,\n",
       "  'Cloudiness': 75,\n",
       "  'Wind Speed': 11.5,\n",
       "  'Country': 'BO',\n",
       "  'Date': '2022-04-16 17:25:52'},\n",
       " {'City': 'Vestmannaeyjar',\n",
       "  'Lat': 63.4427,\n",
       "  'Lng': -20.2734,\n",
       "  'Max Temp': 47.39,\n",
       "  'Humidity': 100,\n",
       "  'Cloudiness': 100,\n",
       "  'Wind Speed': 14.97,\n",
       "  'Country': 'IS',\n",
       "  'Date': '2022-04-16 17:25:53'},\n",
       " {'City': 'Laguna',\n",
       "  'Lat': 38.421,\n",
       "  'Lng': -121.4238,\n",
       "  'Max Temp': 61.11,\n",
       "  'Humidity': 81,\n",
       "  'Cloudiness': 75,\n",
       "  'Wind Speed': 11.5,\n",
       "  'Country': 'US',\n",
       "  'Date': '2022-04-16 17:22:01'},\n",
       " {'City': 'Mossendjo',\n",
       "  'Lat': -2.9506,\n",
       "  'Lng': 12.7261,\n",
       "  'Max Temp': 74.43,\n",
       "  'Humidity': 94,\n",
       "  'Cloudiness': 92,\n",
       "  'Wind Speed': 1.01,\n",
       "  'Country': 'CG',\n",
       "  'Date': '2022-04-16 17:25:53'},\n",
       " {'City': 'Siniscola',\n",
       "  'Lat': 40.5719,\n",
       "  'Lng': 9.6922,\n",
       "  'Max Temp': 71.15,\n",
       "  'Humidity': 60,\n",
       "  'Cloudiness': 0,\n",
       "  'Wind Speed': 5.5,\n",
       "  'Country': 'IT',\n",
       "  'Date': '2022-04-16 17:25:54'},\n",
       " {'City': 'Necochea',\n",
       "  'Lat': -38.5473,\n",
       "  'Lng': -58.7368,\n",
       "  'Max Temp': 68.99,\n",
       "  'Humidity': 48,\n",
       "  'Cloudiness': 38,\n",
       "  'Wind Speed': 6.29,\n",
       "  'Country': 'AR',\n",
       "  'Date': '2022-04-16 17:25:54'},\n",
       " {'City': 'Abha',\n",
       "  'Lat': 18.2164,\n",
       "  'Lng': 42.5053,\n",
       "  'Max Temp': 67.82,\n",
       "  'Humidity': 42,\n",
       "  'Cloudiness': 0,\n",
       "  'Wind Speed': 6.91,\n",
       "  'Country': 'SA',\n",
       "  'Date': '2022-04-16 17:25:54'},\n",
       " {'City': 'Punta Arenas',\n",
       "  'Lat': -53.15,\n",
       "  'Lng': -70.9167,\n",
       "  'Max Temp': 48.31,\n",
       "  'Humidity': 61,\n",
       "  'Cloudiness': 40,\n",
       "  'Wind Speed': 5.75,\n",
       "  'Country': 'CL',\n",
       "  'Date': '2022-04-16 17:25:55'},\n",
       " {'City': 'Shetpe',\n",
       "  'Lat': 44.1667,\n",
       "  'Lng': 52.1167,\n",
       "  'Max Temp': 57.81,\n",
       "  'Humidity': 50,\n",
       "  'Cloudiness': 11,\n",
       "  'Wind Speed': 11.77,\n",
       "  'Country': 'KZ',\n",
       "  'Date': '2022-04-16 17:25:55'},\n",
       " {'City': 'Petauke',\n",
       "  'Lat': -14.2426,\n",
       "  'Lng': 31.3253,\n",
       "  'Max Temp': 67.64,\n",
       "  'Humidity': 82,\n",
       "  'Cloudiness': 55,\n",
       "  'Wind Speed': 4.45,\n",
       "  'Country': 'ZM',\n",
       "  'Date': '2022-04-16 17:25:56'},\n",
       " {'City': 'Port Alfred',\n",
       "  'Lat': -33.5906,\n",
       "  'Lng': 26.891,\n",
       "  'Max Temp': 62.19,\n",
       "  'Humidity': 80,\n",
       "  'Cloudiness': 100,\n",
       "  'Wind Speed': 11.45,\n",
       "  'Country': 'ZA',\n",
       "  'Date': '2022-04-16 17:19:40'},\n",
       " {'City': 'Sao Filipe',\n",
       "  'Lat': 14.8961,\n",
       "  'Lng': -24.4956,\n",
       "  'Max Temp': 71.91,\n",
       "  'Humidity': 76,\n",
       "  'Cloudiness': 3,\n",
       "  'Wind Speed': 12.73,\n",
       "  'Country': 'CV',\n",
       "  'Date': '2022-04-16 17:19:33'},\n",
       " {'City': 'Leeds',\n",
       "  'Lat': 53.7964,\n",
       "  'Lng': -1.5477,\n",
       "  'Max Temp': 67.64,\n",
       "  'Humidity': 57,\n",
       "  'Cloudiness': 40,\n",
       "  'Wind Speed': 11.5,\n",
       "  'Country': 'GB',\n",
       "  'Date': '2022-04-16 17:22:08'},\n",
       " {'City': 'Santiago Del Estero',\n",
       "  'Lat': -27.7951,\n",
       "  'Lng': -64.2615,\n",
       "  'Max Temp': 74.93,\n",
       "  'Humidity': 33,\n",
       "  'Cloudiness': 0,\n",
       "  'Wind Speed': 5.46,\n",
       "  'Country': 'AR',\n",
       "  'Date': '2022-04-16 17:25:57'},\n",
       " {'City': 'Barmer',\n",
       "  'Lat': 25.75,\n",
       "  'Lng': 71.3833,\n",
       "  'Max Temp': 87.78,\n",
       "  'Humidity': 27,\n",
       "  'Cloudiness': 22,\n",
       "  'Wind Speed': 11.56,\n",
       "  'Country': 'IN',\n",
       "  'Date': '2022-04-16 17:25:57'},\n",
       " {'City': 'Tapes',\n",
       "  'Lat': -30.6733,\n",
       "  'Lng': -51.3958,\n",
       "  'Max Temp': 68.45,\n",
       "  'Humidity': 58,\n",
       "  'Cloudiness': 91,\n",
       "  'Wind Speed': 6.82,\n",
       "  'Country': 'BR',\n",
       "  'Date': '2022-04-16 17:25:57'},\n",
       " {'City': 'Balkanabat',\n",
       "  'Lat': 39.5108,\n",
       "  'Lng': 54.3671,\n",
       "  'Max Temp': 60.57,\n",
       "  'Humidity': 55,\n",
       "  'Cloudiness': 100,\n",
       "  'Wind Speed': 8.9,\n",
       "  'Country': 'TM',\n",
       "  'Date': '2022-04-16 17:25:58'},\n",
       " {'City': 'Porto Seguro',\n",
       "  'Lat': -16.4497,\n",
       "  'Lng': -39.0647,\n",
       "  'Max Temp': 75.72,\n",
       "  'Humidity': 83,\n",
       "  'Cloudiness': 75,\n",
       "  'Wind Speed': 8.05,\n",
       "  'Country': 'BR',\n",
       "  'Date': '2022-04-16 17:25:58'},\n",
       " {'City': 'Novelda',\n",
       "  'Lat': 38.3848,\n",
       "  'Lng': -0.7677,\n",
       "  'Max Temp': 77.32,\n",
       "  'Humidity': 51,\n",
       "  'Cloudiness': 10,\n",
       "  'Wind Speed': 6.82,\n",
       "  'Country': 'ES',\n",
       "  'Date': '2022-04-16 17:25:58'}]"
      ]
     },
     "execution_count": 43,
     "metadata": {},
     "output_type": "execute_result"
    }
   ],
   "source": [
    "city_data"
   ]
  },
  {
   "cell_type": "code",
   "execution_count": 44,
   "id": "43ec7859",
   "metadata": {},
   "outputs": [],
   "source": [
    "# Convert the array of dictionaries to a Pandas DataFrame.\n",
    "city_data_df = pd.DataFrame(city_data)\n",
    "city_data_df.head(10)\n",
    "\n",
    "# Create the output file (CSV).\n",
    "output_data_file = \"weather_data/cities.csv\"\n",
    "\n",
    "# Export the City_Data into a CSV.\n",
    "city_data_df.to_csv(output_data_file, index_label=\"City_ID\")"
   ]
  },
  {
   "cell_type": "code",
   "execution_count": 45,
   "id": "7a5ce3ce",
   "metadata": {},
   "outputs": [
    {
     "data": {
      "text/html": [
       "<div>\n",
       "<style scoped>\n",
       "    .dataframe tbody tr th:only-of-type {\n",
       "        vertical-align: middle;\n",
       "    }\n",
       "\n",
       "    .dataframe tbody tr th {\n",
       "        vertical-align: top;\n",
       "    }\n",
       "\n",
       "    .dataframe thead th {\n",
       "        text-align: right;\n",
       "    }\n",
       "</style>\n",
       "<table border=\"1\" class=\"dataframe\">\n",
       "  <thead>\n",
       "    <tr style=\"text-align: right;\">\n",
       "      <th></th>\n",
       "      <th>City</th>\n",
       "      <th>Lat</th>\n",
       "      <th>Lng</th>\n",
       "      <th>Max Temp</th>\n",
       "      <th>Humidity</th>\n",
       "      <th>Cloudiness</th>\n",
       "      <th>Wind Speed</th>\n",
       "      <th>Country</th>\n",
       "      <th>Date</th>\n",
       "    </tr>\n",
       "  </thead>\n",
       "  <tbody>\n",
       "    <tr>\n",
       "      <th>0</th>\n",
       "      <td>Chapais</td>\n",
       "      <td>49.7834</td>\n",
       "      <td>-74.8492</td>\n",
       "      <td>31.78</td>\n",
       "      <td>72</td>\n",
       "      <td>99</td>\n",
       "      <td>11.65</td>\n",
       "      <td>CA</td>\n",
       "      <td>2022-04-16 17:24:39</td>\n",
       "    </tr>\n",
       "    <tr>\n",
       "      <th>1</th>\n",
       "      <td>Bredasdorp</td>\n",
       "      <td>-34.5322</td>\n",
       "      <td>20.0403</td>\n",
       "      <td>60.40</td>\n",
       "      <td>66</td>\n",
       "      <td>43</td>\n",
       "      <td>15.12</td>\n",
       "      <td>ZA</td>\n",
       "      <td>2022-04-16 17:22:08</td>\n",
       "    </tr>\n",
       "    <tr>\n",
       "      <th>2</th>\n",
       "      <td>Busselton</td>\n",
       "      <td>-33.6500</td>\n",
       "      <td>115.3333</td>\n",
       "      <td>59.90</td>\n",
       "      <td>75</td>\n",
       "      <td>75</td>\n",
       "      <td>11.70</td>\n",
       "      <td>AU</td>\n",
       "      <td>2022-04-16 17:24:40</td>\n",
       "    </tr>\n",
       "    <tr>\n",
       "      <th>3</th>\n",
       "      <td>Parad</td>\n",
       "      <td>47.9232</td>\n",
       "      <td>20.0297</td>\n",
       "      <td>44.91</td>\n",
       "      <td>57</td>\n",
       "      <td>90</td>\n",
       "      <td>14.52</td>\n",
       "      <td>HU</td>\n",
       "      <td>2022-04-16 17:24:40</td>\n",
       "    </tr>\n",
       "    <tr>\n",
       "      <th>4</th>\n",
       "      <td>Rocha</td>\n",
       "      <td>-34.4833</td>\n",
       "      <td>-54.3333</td>\n",
       "      <td>67.93</td>\n",
       "      <td>56</td>\n",
       "      <td>87</td>\n",
       "      <td>5.68</td>\n",
       "      <td>UY</td>\n",
       "      <td>2022-04-16 17:24:41</td>\n",
       "    </tr>\n",
       "    <tr>\n",
       "      <th>5</th>\n",
       "      <td>Narsaq</td>\n",
       "      <td>60.9167</td>\n",
       "      <td>-46.0500</td>\n",
       "      <td>41.22</td>\n",
       "      <td>63</td>\n",
       "      <td>1</td>\n",
       "      <td>1.72</td>\n",
       "      <td>GL</td>\n",
       "      <td>2022-04-16 17:24:41</td>\n",
       "    </tr>\n",
       "    <tr>\n",
       "      <th>6</th>\n",
       "      <td>Salalah</td>\n",
       "      <td>17.0151</td>\n",
       "      <td>54.0924</td>\n",
       "      <td>82.49</td>\n",
       "      <td>83</td>\n",
       "      <td>20</td>\n",
       "      <td>6.91</td>\n",
       "      <td>OM</td>\n",
       "      <td>2022-04-16 17:24:42</td>\n",
       "    </tr>\n",
       "    <tr>\n",
       "      <th>7</th>\n",
       "      <td>Qaanaaq</td>\n",
       "      <td>77.4840</td>\n",
       "      <td>-69.3632</td>\n",
       "      <td>-8.86</td>\n",
       "      <td>74</td>\n",
       "      <td>77</td>\n",
       "      <td>8.05</td>\n",
       "      <td>GL</td>\n",
       "      <td>2022-04-16 17:24:42</td>\n",
       "    </tr>\n",
       "    <tr>\n",
       "      <th>8</th>\n",
       "      <td>Cape Town</td>\n",
       "      <td>-33.9258</td>\n",
       "      <td>18.4232</td>\n",
       "      <td>66.11</td>\n",
       "      <td>57</td>\n",
       "      <td>0</td>\n",
       "      <td>13.00</td>\n",
       "      <td>ZA</td>\n",
       "      <td>2022-04-16 17:19:31</td>\n",
       "    </tr>\n",
       "    <tr>\n",
       "      <th>9</th>\n",
       "      <td>Jibuti</td>\n",
       "      <td>11.5000</td>\n",
       "      <td>42.5000</td>\n",
       "      <td>82.02</td>\n",
       "      <td>43</td>\n",
       "      <td>11</td>\n",
       "      <td>10.16</td>\n",
       "      <td>DJ</td>\n",
       "      <td>2022-04-16 17:24:42</td>\n",
       "    </tr>\n",
       "  </tbody>\n",
       "</table>\n",
       "</div>"
      ],
      "text/plain": [
       "         City      Lat       Lng  Max Temp  Humidity  Cloudiness  Wind Speed  \\\n",
       "0     Chapais  49.7834  -74.8492     31.78        72          99       11.65   \n",
       "1  Bredasdorp -34.5322   20.0403     60.40        66          43       15.12   \n",
       "2   Busselton -33.6500  115.3333     59.90        75          75       11.70   \n",
       "3       Parad  47.9232   20.0297     44.91        57          90       14.52   \n",
       "4       Rocha -34.4833  -54.3333     67.93        56          87        5.68   \n",
       "5      Narsaq  60.9167  -46.0500     41.22        63           1        1.72   \n",
       "6     Salalah  17.0151   54.0924     82.49        83          20        6.91   \n",
       "7     Qaanaaq  77.4840  -69.3632     -8.86        74          77        8.05   \n",
       "8   Cape Town -33.9258   18.4232     66.11        57           0       13.00   \n",
       "9      Jibuti  11.5000   42.5000     82.02        43          11       10.16   \n",
       "\n",
       "  Country                 Date  \n",
       "0      CA  2022-04-16 17:24:39  \n",
       "1      ZA  2022-04-16 17:22:08  \n",
       "2      AU  2022-04-16 17:24:40  \n",
       "3      HU  2022-04-16 17:24:40  \n",
       "4      UY  2022-04-16 17:24:41  \n",
       "5      GL  2022-04-16 17:24:41  \n",
       "6      OM  2022-04-16 17:24:42  \n",
       "7      GL  2022-04-16 17:24:42  \n",
       "8      ZA  2022-04-16 17:19:31  \n",
       "9      DJ  2022-04-16 17:24:42  "
      ]
     },
     "execution_count": 45,
     "metadata": {},
     "output_type": "execute_result"
    }
   ],
   "source": [
    "# Convert the array of dictionaries to a Pandas DataFrame.\n",
    "city_data_df = pd.DataFrame(city_data)\n",
    "\n",
    "city_data_df.head(10)"
   ]
  },
  {
   "cell_type": "code",
   "execution_count": 46,
   "id": "18d2db7f",
   "metadata": {},
   "outputs": [],
   "source": [
    "# Create the output file (CSV).\n",
    "output_data_file = \"weather_data/cities.csv\"\n",
    "\n",
    "# Export the City_Data into a CSV.\n",
    "city_data_df.to_csv(output_data_file, index_label=\"City_ID\")"
   ]
  },
  {
   "cell_type": "code",
   "execution_count": 47,
   "id": "4e8d2255",
   "metadata": {},
   "outputs": [],
   "source": [
    "# Extract relevant fields from the DataFrame for plotting.\n",
    "lats = city_data_df[\"Lat\"]\n",
    "max_temps = city_data_df[\"Max Temp\"]\n",
    "humidity = city_data_df[\"Humidity\"]\n",
    "cloudiness = city_data_df[\"Cloudiness\"]\n",
    "wind_speed = city_data_df[\"Wind Speed\"]"
   ]
  },
  {
   "cell_type": "code",
   "execution_count": 48,
   "id": "d3cd0774",
   "metadata": {},
   "outputs": [
    {
     "data": {
      "text/plain": [
       "1650129959.145638"
      ]
     },
     "execution_count": 48,
     "metadata": {},
     "output_type": "execute_result"
    }
   ],
   "source": [
    "# Import the time module.\n",
    "import time\n",
    "\n",
    "# Get today's date in seconds.\n",
    "today = time.time()\n",
    "today"
   ]
  },
  {
   "cell_type": "code",
   "execution_count": 49,
   "id": "ab0b7831",
   "metadata": {},
   "outputs": [
    {
     "data": {
      "text/plain": [
       "'04/16/22'"
      ]
     },
     "execution_count": 49,
     "metadata": {},
     "output_type": "execute_result"
    }
   ],
   "source": [
    "# Get today's date\n",
    "today = time.strftime(\"%x\")\n",
    "today"
   ]
  },
  {
   "cell_type": "code",
   "execution_count": 50,
   "id": "6e0c406a",
   "metadata": {},
   "outputs": [
    {
     "data": {
      "image/png": "[encoded data removed]",
      "text/plain": [
       "<Figure size 432x288 with 1 Axes>"
      ]
     },
     "metadata": {
      "needs_background": "light"
     },
     "output_type": "display_data"
    }
   ],
   "source": [
    "# Build the scatter plot for latitude vs. max temperature.\n",
    "plt.scatter(lats,\n",
    "            max_temps,\n",
    "            edgecolor=\"black\", linewidths=1, marker=\"o\",\n",
    "            alpha=0.8, label=\"Cities\")\n",
    "\n",
    "# Incorporate the other graph properties.\n",
    "plt.title(f\"City Latitude vs. Max Temperature \"+ time.strftime(\"%x\"))\n",
    "plt.ylabel(\"Max Temperature (F)\")\n",
    "plt.xlabel(\"Latitude\")\n",
    "plt.grid(True)\n",
    "\n",
    "# Save the figure.\n",
    "plt.savefig(\"weather_data/Fig1.png\")\n",
    "\n",
    "# Show plot.\n",
    "plt.show()"
   ]
  },
  {
   "cell_type": "code",
   "execution_count": 51,
   "id": "9fb7c3f7",
   "metadata": {},
   "outputs": [
    {
     "data": {
      "image/png": "[encoded data removed]",
      "text/plain": [
       "<Figure size 432x288 with 1 Axes>"
      ]
     },
     "metadata": {
      "needs_background": "light"
     },
     "output_type": "display_data"
    }
   ],
   "source": [
    "# Build the scatter plots for latitude vs. humidity.\n",
    "plt.scatter(lats,\n",
    "            humidity,\n",
    "            edgecolor=\"black\", linewidths=1, marker=\"o\",\n",
    "            alpha=0.8, label=\"Cities\")\n",
    "\n",
    "# Incorporate the other graph properties.\n",
    "plt.title(f\"City Latitude vs. Humidity \"+ time.strftime(\"%x\"))\n",
    "plt.ylabel(\"Humidity (%)\")\n",
    "plt.xlabel(\"Latitude\")\n",
    "plt.grid(True)\n",
    "# Save the figure.\n",
    "plt.savefig(\"weather_data/Fig2.png\")\n",
    "# Show plot.\n",
    "plt.show()"
   ]
  },
  {
   "cell_type": "code",
   "execution_count": 52,
   "id": "0d3b3dc8",
   "metadata": {},
   "outputs": [
    {
     "data": {
      "image/png": "[encoded data removed]",
      "text/plain": [
       "<Figure size 432x288 with 1 Axes>"
      ]
     },
     "metadata": {
      "needs_background": "light"
     },
     "output_type": "display_data"
    }
   ],
   "source": [
    "# Build the scatter plots for latitude vs. cloudiness.\n",
    "plt.scatter(lats,\n",
    "            cloudiness,\n",
    "            edgecolor=\"black\", linewidths=1, marker=\"o\",\n",
    "            alpha=0.8, label=\"Cities\")\n",
    "\n",
    "# Incorporate the other graph properties.\n",
    "plt.title(f\"City Latitude vs. Cloudiness (%) \"+ time.strftime(\"%x\"))\n",
    "plt.ylabel(\"Cloudiness (%)\")\n",
    "plt.xlabel(\"Latitude\")\n",
    "plt.grid(True)\n",
    "# Save the figure.\n",
    "plt.savefig(\"weather_data/Fig3.png\")\n",
    "# Show plot.\n",
    "plt.show()"
   ]
  },
  {
   "cell_type": "code",
   "execution_count": 53,
   "id": "8e50ee79",
   "metadata": {},
   "outputs": [
    {
     "data": {
      "image/png": "[encoded data removed]",
      "text/plain": [
       "<Figure size 432x288 with 1 Axes>"
      ]
     },
     "metadata": {
      "needs_background": "light"
     },
     "output_type": "display_data"
    }
   ],
   "source": [
    "# Build the scatter plots for latitude vs. wind speed.\n",
    "plt.scatter(lats,\n",
    "            wind_speed,\n",
    "            edgecolor=\"black\", linewidths=1, marker=\"o\",\n",
    "            alpha=0.8, label=\"Cities\")\n",
    "\n",
    "# Incorporate the other graph properties.\n",
    "plt.title(f\"City Latitude vs. Wind Speed \"+ time.strftime(\"%x\"))\n",
    "plt.ylabel(\"Wind Speed (mph)\")\n",
    "plt.xlabel(\"Latitude\")\n",
    "plt.grid(True)\n",
    "# Save the figure.\n",
    "plt.savefig(\"weather_data/Fig4.png\")\n",
    "# Show plot.\n",
    "plt.show()"
   ]
  },
  {
   "cell_type": "code",
   "execution_count": 54,
   "id": "c506f1d6",
   "metadata": {},
   "outputs": [],
   "source": [
    "# Import linear regression from the SciPy stats module.\n",
    "from scipy.stats import linregress"
   ]
  },
  {
   "cell_type": "code",
   "execution_count": 55,
   "id": "64c655f3",
   "metadata": {},
   "outputs": [],
   "source": [
    "# Create an equal number of latitudes and temperatures.\n",
    "lats = [42.5, 43.9, 8.1, 36.8, 79.9, 69.1, 25.7, 15.3, 12.7, 64.5]\n",
    "temps = [80.5, 75.3, 90.9, 90.0, 40.4, 62.3, 85.4, 79.6, 72.5, 72.0]"
   ]
  },
  {
   "cell_type": "code",
   "execution_count": 56,
   "id": "2224c9b9",
   "metadata": {},
   "outputs": [
    {
     "name": "stdout",
     "output_type": "stream",
     "text": [
      "y = -0.45x + 92.94\n",
      "The p-value is: 0.011\n"
     ]
    }
   ],
   "source": [
    "# Perform linear regression.\n",
    "(slope, intercept, r_value, p_value, std_err) = linregress(lats, temps)\n",
    "# Get the equation of the line.\n",
    "line_eq = \"y = \" + str(round(slope,2)) + \"x + \" + str(round(intercept,2))\n",
    "print(line_eq)\n",
    "print(f\"The p-value is: {p_value:.3f}\")"
   ]
  },
  {
   "cell_type": "code",
   "execution_count": 57,
   "id": "220ee7b6",
   "metadata": {},
   "outputs": [],
   "source": [
    "# Calculate the regression line \"y values\" from the slope and intercept.\n",
    "regress_values = [(lat * slope + intercept) for lat in lats]"
   ]
  },
  {
   "cell_type": "code",
   "execution_count": 58,
   "id": "65ecdf06",
   "metadata": {},
   "outputs": [
    {
     "data": {
      "image/png": "[encoded data removed]",
      "text/plain": [
       "<Figure size 432x288 with 1 Axes>"
      ]
     },
     "metadata": {
      "needs_background": "light"
     },
     "output_type": "display_data"
    }
   ],
   "source": [
    "# Import Matplotlib.\n",
    "import matplotlib.pyplot as plt\n",
    "\n",
    "# Create a scatter plot of the x and y values.\n",
    "plt.scatter(lats,temps)\n",
    "\n",
    "# Plot the regression line with the x-values and the y coordinates based on the intercept and slope.\n",
    "plt.plot(lats,regress_values,\"r\")\n",
    "\n",
    "# Annotate the text for the line equation and add its coordinates.\n",
    "plt.annotate(line_eq, (10,40), fontsize=15, color=\"red\")\n",
    "plt.xlabel('Latitude')\n",
    "plt.ylabel('Temp')\n",
    "plt.show()"
   ]
  },
  {
   "cell_type": "code",
   "execution_count": 59,
   "id": "e6627a00",
   "metadata": {},
   "outputs": [],
   "source": [
    "# Perform linear regression.\n",
    "# (slope, intercept, r_value, p_value, std_err) = linregress(x_values, y_values)\n",
    "\n",
    "# Calculate the regression line \"y values\" from the slope and intercept.\n",
    "# regress_values = x_values * slope + intercept\n",
    "\n",
    "# Get the equation of the line.\n",
    "# line_eq = \"y = \" + str(round(slope,2)) + \"x + \" + str(round(intercept,2))\n",
    "\n",
    "# Create a scatter plot of the x and y values.\n",
    "# plt.scatter(x_values,y_values)\n",
    "\n",
    "# Plot the regression line with the x-values and the y coordinates based on the intercept and slope.\n",
    "# plt.plot(x_values,regress_values,\"r\")\n",
    "\n",
    "# Annotate the text for the line equation and add its coordinates.\n",
    "# plt.annotate(line_eq, (10,40), fontsize=15, color=\"red\")\n",
    "# plt.title(title)\n",
    "# plt.xlabel('Latitude')\n",
    "# plt.ylabel('Temp')\n",
    "# plt.show()"
   ]
  },
  {
   "cell_type": "code",
   "execution_count": 60,
   "id": "f68ea77c",
   "metadata": {},
   "outputs": [],
   "source": [
    "# Create a function to create perform linear regression on the weather data\n",
    "# and plot a regression line and the equation with the data.\n",
    "# def plot_linear_regression(x_values, y_values, title, y_label, text_coordinates):"
   ]
  },
  {
   "cell_type": "code",
   "execution_count": 61,
   "id": "5f5cec49",
   "metadata": {},
   "outputs": [],
   "source": [
    "# Import linregress\n",
    "from scipy.stats import linregress\n",
    "\n",
    "# Create a function to create perform linear regression on the weather data\n",
    "# and plot a regression line and the equation with the data.\n",
    "def plot_linear_regression(x_values, y_values, title, y_label, text_coordinates):\n",
    "\n",
    "    # Run regression on hemisphere weather data.\n",
    "    (slope, intercept, r_value, p_value, std_err) = linregress(x_values, y_values)\n",
    "\n",
    "    # Calculate the regression line \"y values\" from the slope and intercept.\n",
    "    regress_values = x_values * slope + intercept\n",
    "    \n",
    "    # Get the equation of the line.\n",
    "    line_eq = \"y = \" + str(round(slope,2)) + \"x + \" + str(round(intercept,2))\n",
    "    \n",
    "    # Create a scatter plot and plot the regression line.\n",
    "    plt.scatter(x_values,y_values)\n",
    "    plt.plot(x_values,regress_values,\"r\")\n",
    "    \n",
    "    # Annotate the text for the line equation.\n",
    "    plt.annotate(line_eq, text_coordinates, fontsize=15, color=\"red\")\n",
    "    plt.title(title)\n",
    "    plt.xlabel('Latitude')\n",
    "    plt.ylabel(y_label)\n",
    "    plt.show()"
   ]
  },
  {
   "cell_type": "code",
   "execution_count": 62,
   "id": "b40dc628",
   "metadata": {},
   "outputs": [
    {
     "data": {
      "text/html": [
       "<div>\n",
       "<style scoped>\n",
       "    .dataframe tbody tr th:only-of-type {\n",
       "        vertical-align: middle;\n",
       "    }\n",
       "\n",
       "    .dataframe tbody tr th {\n",
       "        vertical-align: top;\n",
       "    }\n",
       "\n",
       "    .dataframe thead th {\n",
       "        text-align: right;\n",
       "    }\n",
       "</style>\n",
       "<table border=\"1\" class=\"dataframe\">\n",
       "  <thead>\n",
       "    <tr style=\"text-align: right;\">\n",
       "      <th></th>\n",
       "      <th>City</th>\n",
       "      <th>Lat</th>\n",
       "      <th>Lng</th>\n",
       "      <th>Max Temp</th>\n",
       "      <th>Humidity</th>\n",
       "      <th>Cloudiness</th>\n",
       "      <th>Wind Speed</th>\n",
       "      <th>Country</th>\n",
       "      <th>Date</th>\n",
       "    </tr>\n",
       "  </thead>\n",
       "  <tbody>\n",
       "    <tr>\n",
       "      <th>0</th>\n",
       "      <td>Chapais</td>\n",
       "      <td>49.7834</td>\n",
       "      <td>-74.8492</td>\n",
       "      <td>31.78</td>\n",
       "      <td>72</td>\n",
       "      <td>99</td>\n",
       "      <td>11.65</td>\n",
       "      <td>CA</td>\n",
       "      <td>2022-04-16 17:24:39</td>\n",
       "    </tr>\n",
       "    <tr>\n",
       "      <th>3</th>\n",
       "      <td>Parad</td>\n",
       "      <td>47.9232</td>\n",
       "      <td>20.0297</td>\n",
       "      <td>44.91</td>\n",
       "      <td>57</td>\n",
       "      <td>90</td>\n",
       "      <td>14.52</td>\n",
       "      <td>HU</td>\n",
       "      <td>2022-04-16 17:24:40</td>\n",
       "    </tr>\n",
       "    <tr>\n",
       "      <th>5</th>\n",
       "      <td>Narsaq</td>\n",
       "      <td>60.9167</td>\n",
       "      <td>-46.0500</td>\n",
       "      <td>41.22</td>\n",
       "      <td>63</td>\n",
       "      <td>1</td>\n",
       "      <td>1.72</td>\n",
       "      <td>GL</td>\n",
       "      <td>2022-04-16 17:24:41</td>\n",
       "    </tr>\n",
       "    <tr>\n",
       "      <th>6</th>\n",
       "      <td>Salalah</td>\n",
       "      <td>17.0151</td>\n",
       "      <td>54.0924</td>\n",
       "      <td>82.49</td>\n",
       "      <td>83</td>\n",
       "      <td>20</td>\n",
       "      <td>6.91</td>\n",
       "      <td>OM</td>\n",
       "      <td>2022-04-16 17:24:42</td>\n",
       "    </tr>\n",
       "    <tr>\n",
       "      <th>7</th>\n",
       "      <td>Qaanaaq</td>\n",
       "      <td>77.4840</td>\n",
       "      <td>-69.3632</td>\n",
       "      <td>-8.86</td>\n",
       "      <td>74</td>\n",
       "      <td>77</td>\n",
       "      <td>8.05</td>\n",
       "      <td>GL</td>\n",
       "      <td>2022-04-16 17:24:42</td>\n",
       "    </tr>\n",
       "    <tr>\n",
       "      <th>9</th>\n",
       "      <td>Jibuti</td>\n",
       "      <td>11.5000</td>\n",
       "      <td>42.5000</td>\n",
       "      <td>82.02</td>\n",
       "      <td>43</td>\n",
       "      <td>11</td>\n",
       "      <td>10.16</td>\n",
       "      <td>DJ</td>\n",
       "      <td>2022-04-16 17:24:42</td>\n",
       "    </tr>\n",
       "    <tr>\n",
       "      <th>11</th>\n",
       "      <td>Jamestown</td>\n",
       "      <td>42.0970</td>\n",
       "      <td>-79.2353</td>\n",
       "      <td>45.01</td>\n",
       "      <td>69</td>\n",
       "      <td>75</td>\n",
       "      <td>14.97</td>\n",
       "      <td>US</td>\n",
       "      <td>2022-04-16 17:20:47</td>\n",
       "    </tr>\n",
       "    <tr>\n",
       "      <th>13</th>\n",
       "      <td>Guarda</td>\n",
       "      <td>40.5373</td>\n",
       "      <td>-7.2658</td>\n",
       "      <td>71.91</td>\n",
       "      <td>41</td>\n",
       "      <td>21</td>\n",
       "      <td>4.29</td>\n",
       "      <td>PT</td>\n",
       "      <td>2022-04-16 17:24:43</td>\n",
       "    </tr>\n",
       "    <tr>\n",
       "      <th>14</th>\n",
       "      <td>Saint George</td>\n",
       "      <td>37.1041</td>\n",
       "      <td>-113.5841</td>\n",
       "      <td>72.25</td>\n",
       "      <td>22</td>\n",
       "      <td>0</td>\n",
       "      <td>13.80</td>\n",
       "      <td>US</td>\n",
       "      <td>2022-04-16 17:15:35</td>\n",
       "    </tr>\n",
       "    <tr>\n",
       "      <th>15</th>\n",
       "      <td>San Lawrenz</td>\n",
       "      <td>36.0553</td>\n",
       "      <td>14.2040</td>\n",
       "      <td>59.86</td>\n",
       "      <td>77</td>\n",
       "      <td>82</td>\n",
       "      <td>1.99</td>\n",
       "      <td>MT</td>\n",
       "      <td>2022-04-16 17:24:44</td>\n",
       "    </tr>\n",
       "    <tr>\n",
       "      <th>17</th>\n",
       "      <td>Salinas</td>\n",
       "      <td>36.6777</td>\n",
       "      <td>-121.6555</td>\n",
       "      <td>58.82</td>\n",
       "      <td>81</td>\n",
       "      <td>75</td>\n",
       "      <td>13.80</td>\n",
       "      <td>US</td>\n",
       "      <td>2022-04-16 17:24:44</td>\n",
       "    </tr>\n",
       "    <tr>\n",
       "      <th>21</th>\n",
       "      <td>Hazorasp</td>\n",
       "      <td>41.3194</td>\n",
       "      <td>61.0742</td>\n",
       "      <td>64.24</td>\n",
       "      <td>38</td>\n",
       "      <td>95</td>\n",
       "      <td>19.17</td>\n",
       "      <td>UZ</td>\n",
       "      <td>2022-04-16 17:24:45</td>\n",
       "    </tr>\n",
       "    <tr>\n",
       "      <th>23</th>\n",
       "      <td>Chabahar</td>\n",
       "      <td>25.2919</td>\n",
       "      <td>60.6430</td>\n",
       "      <td>84.51</td>\n",
       "      <td>60</td>\n",
       "      <td>48</td>\n",
       "      <td>8.25</td>\n",
       "      <td>IR</td>\n",
       "      <td>2022-04-16 17:24:46</td>\n",
       "    </tr>\n",
       "    <tr>\n",
       "      <th>24</th>\n",
       "      <td>Vestmanna</td>\n",
       "      <td>62.1564</td>\n",
       "      <td>-7.1664</td>\n",
       "      <td>45.52</td>\n",
       "      <td>93</td>\n",
       "      <td>100</td>\n",
       "      <td>17.27</td>\n",
       "      <td>FO</td>\n",
       "      <td>2022-04-16 17:24:46</td>\n",
       "    </tr>\n",
       "    <tr>\n",
       "      <th>25</th>\n",
       "      <td>Ponta Do Sol</td>\n",
       "      <td>32.6667</td>\n",
       "      <td>-17.1000</td>\n",
       "      <td>75.13</td>\n",
       "      <td>38</td>\n",
       "      <td>100</td>\n",
       "      <td>7.34</td>\n",
       "      <td>PT</td>\n",
       "      <td>2022-04-16 17:24:47</td>\n",
       "    </tr>\n",
       "    <tr>\n",
       "      <th>26</th>\n",
       "      <td>Brattleboro</td>\n",
       "      <td>42.8509</td>\n",
       "      <td>-72.5579</td>\n",
       "      <td>61.21</td>\n",
       "      <td>61</td>\n",
       "      <td>100</td>\n",
       "      <td>3.00</td>\n",
       "      <td>US</td>\n",
       "      <td>2022-04-16 17:24:47</td>\n",
       "    </tr>\n",
       "    <tr>\n",
       "      <th>27</th>\n",
       "      <td>Torbay</td>\n",
       "      <td>47.6666</td>\n",
       "      <td>-52.7314</td>\n",
       "      <td>54.75</td>\n",
       "      <td>58</td>\n",
       "      <td>0</td>\n",
       "      <td>27.63</td>\n",
       "      <td>CA</td>\n",
       "      <td>2022-04-16 17:15:17</td>\n",
       "    </tr>\n",
       "    <tr>\n",
       "      <th>28</th>\n",
       "      <td>Hammerfest</td>\n",
       "      <td>70.6634</td>\n",
       "      <td>23.6821</td>\n",
       "      <td>39.65</td>\n",
       "      <td>93</td>\n",
       "      <td>100</td>\n",
       "      <td>23.02</td>\n",
       "      <td>NO</td>\n",
       "      <td>2022-04-16 17:20:49</td>\n",
       "    </tr>\n",
       "    <tr>\n",
       "      <th>29</th>\n",
       "      <td>Longyearbyen</td>\n",
       "      <td>78.2186</td>\n",
       "      <td>15.6401</td>\n",
       "      <td>26.44</td>\n",
       "      <td>80</td>\n",
       "      <td>75</td>\n",
       "      <td>12.66</td>\n",
       "      <td>SJ</td>\n",
       "      <td>2022-04-16 17:19:37</td>\n",
       "    </tr>\n",
       "    <tr>\n",
       "      <th>30</th>\n",
       "      <td>Dikson</td>\n",
       "      <td>73.5069</td>\n",
       "      <td>80.5464</td>\n",
       "      <td>12.96</td>\n",
       "      <td>94</td>\n",
       "      <td>100</td>\n",
       "      <td>15.41</td>\n",
       "      <td>RU</td>\n",
       "      <td>2022-04-16 17:24:48</td>\n",
       "    </tr>\n",
       "    <tr>\n",
       "      <th>34</th>\n",
       "      <td>Margate</td>\n",
       "      <td>51.3813</td>\n",
       "      <td>1.3862</td>\n",
       "      <td>53.87</td>\n",
       "      <td>79</td>\n",
       "      <td>3</td>\n",
       "      <td>4.00</td>\n",
       "      <td>GB</td>\n",
       "      <td>2022-04-16 17:21:00</td>\n",
       "    </tr>\n",
       "    <tr>\n",
       "      <th>35</th>\n",
       "      <td>Georgetown</td>\n",
       "      <td>5.4112</td>\n",
       "      <td>100.3354</td>\n",
       "      <td>82.33</td>\n",
       "      <td>88</td>\n",
       "      <td>20</td>\n",
       "      <td>2.30</td>\n",
       "      <td>MY</td>\n",
       "      <td>2022-04-16 17:23:31</td>\n",
       "    </tr>\n",
       "    <tr>\n",
       "      <th>38</th>\n",
       "      <td>Pangnirtung</td>\n",
       "      <td>66.1451</td>\n",
       "      <td>-65.7125</td>\n",
       "      <td>5.00</td>\n",
       "      <td>66</td>\n",
       "      <td>20</td>\n",
       "      <td>4.61</td>\n",
       "      <td>CA</td>\n",
       "      <td>2022-04-16 17:24:50</td>\n",
       "    </tr>\n",
       "    <tr>\n",
       "      <th>39</th>\n",
       "      <td>Manzil Salim</td>\n",
       "      <td>35.8567</td>\n",
       "      <td>8.4765</td>\n",
       "      <td>57.92</td>\n",
       "      <td>47</td>\n",
       "      <td>82</td>\n",
       "      <td>16.49</td>\n",
       "      <td>TN</td>\n",
       "      <td>2022-04-16 17:24:50</td>\n",
       "    </tr>\n",
       "    <tr>\n",
       "      <th>40</th>\n",
       "      <td>Larsnes</td>\n",
       "      <td>62.2028</td>\n",
       "      <td>5.5773</td>\n",
       "      <td>52.39</td>\n",
       "      <td>70</td>\n",
       "      <td>100</td>\n",
       "      <td>10.92</td>\n",
       "      <td>NO</td>\n",
       "      <td>2022-04-16 17:24:50</td>\n",
       "    </tr>\n",
       "    <tr>\n",
       "      <th>41</th>\n",
       "      <td>Buchanan</td>\n",
       "      <td>5.8808</td>\n",
       "      <td>-10.0467</td>\n",
       "      <td>83.30</td>\n",
       "      <td>75</td>\n",
       "      <td>91</td>\n",
       "      <td>7.56</td>\n",
       "      <td>LR</td>\n",
       "      <td>2022-04-16 17:24:51</td>\n",
       "    </tr>\n",
       "    <tr>\n",
       "      <th>42</th>\n",
       "      <td>Klaksvik</td>\n",
       "      <td>62.2266</td>\n",
       "      <td>-6.5890</td>\n",
       "      <td>49.12</td>\n",
       "      <td>91</td>\n",
       "      <td>96</td>\n",
       "      <td>18.43</td>\n",
       "      <td>FO</td>\n",
       "      <td>2022-04-16 17:20:46</td>\n",
       "    </tr>\n",
       "    <tr>\n",
       "      <th>43</th>\n",
       "      <td>Shaygino</td>\n",
       "      <td>57.7675</td>\n",
       "      <td>46.8618</td>\n",
       "      <td>30.67</td>\n",
       "      <td>82</td>\n",
       "      <td>100</td>\n",
       "      <td>5.75</td>\n",
       "      <td>RU</td>\n",
       "      <td>2022-04-16 17:24:51</td>\n",
       "    </tr>\n",
       "    <tr>\n",
       "      <th>44</th>\n",
       "      <td>Forio</td>\n",
       "      <td>40.7342</td>\n",
       "      <td>13.8646</td>\n",
       "      <td>70.92</td>\n",
       "      <td>71</td>\n",
       "      <td>82</td>\n",
       "      <td>6.24</td>\n",
       "      <td>IT</td>\n",
       "      <td>2022-04-16 17:18:12</td>\n",
       "    </tr>\n",
       "    <tr>\n",
       "      <th>46</th>\n",
       "      <td>Mosquera</td>\n",
       "      <td>4.7059</td>\n",
       "      <td>-74.2302</td>\n",
       "      <td>68.09</td>\n",
       "      <td>49</td>\n",
       "      <td>75</td>\n",
       "      <td>14.97</td>\n",
       "      <td>CO</td>\n",
       "      <td>2022-04-16 17:25:52</td>\n",
       "    </tr>\n",
       "    <tr>\n",
       "      <th>49</th>\n",
       "      <td>Vestmannaeyjar</td>\n",
       "      <td>63.4427</td>\n",
       "      <td>-20.2734</td>\n",
       "      <td>47.39</td>\n",
       "      <td>100</td>\n",
       "      <td>100</td>\n",
       "      <td>14.97</td>\n",
       "      <td>IS</td>\n",
       "      <td>2022-04-16 17:25:53</td>\n",
       "    </tr>\n",
       "    <tr>\n",
       "      <th>50</th>\n",
       "      <td>Laguna</td>\n",
       "      <td>38.4210</td>\n",
       "      <td>-121.4238</td>\n",
       "      <td>61.11</td>\n",
       "      <td>81</td>\n",
       "      <td>75</td>\n",
       "      <td>11.50</td>\n",
       "      <td>US</td>\n",
       "      <td>2022-04-16 17:22:01</td>\n",
       "    </tr>\n",
       "    <tr>\n",
       "      <th>52</th>\n",
       "      <td>Siniscola</td>\n",
       "      <td>40.5719</td>\n",
       "      <td>9.6922</td>\n",
       "      <td>71.15</td>\n",
       "      <td>60</td>\n",
       "      <td>0</td>\n",
       "      <td>5.50</td>\n",
       "      <td>IT</td>\n",
       "      <td>2022-04-16 17:25:54</td>\n",
       "    </tr>\n",
       "    <tr>\n",
       "      <th>54</th>\n",
       "      <td>Abha</td>\n",
       "      <td>18.2164</td>\n",
       "      <td>42.5053</td>\n",
       "      <td>67.82</td>\n",
       "      <td>42</td>\n",
       "      <td>0</td>\n",
       "      <td>6.91</td>\n",
       "      <td>SA</td>\n",
       "      <td>2022-04-16 17:25:54</td>\n",
       "    </tr>\n",
       "    <tr>\n",
       "      <th>56</th>\n",
       "      <td>Shetpe</td>\n",
       "      <td>44.1667</td>\n",
       "      <td>52.1167</td>\n",
       "      <td>57.81</td>\n",
       "      <td>50</td>\n",
       "      <td>11</td>\n",
       "      <td>11.77</td>\n",
       "      <td>KZ</td>\n",
       "      <td>2022-04-16 17:25:55</td>\n",
       "    </tr>\n",
       "    <tr>\n",
       "      <th>59</th>\n",
       "      <td>Sao Filipe</td>\n",
       "      <td>14.8961</td>\n",
       "      <td>-24.4956</td>\n",
       "      <td>71.91</td>\n",
       "      <td>76</td>\n",
       "      <td>3</td>\n",
       "      <td>12.73</td>\n",
       "      <td>CV</td>\n",
       "      <td>2022-04-16 17:19:33</td>\n",
       "    </tr>\n",
       "    <tr>\n",
       "      <th>60</th>\n",
       "      <td>Leeds</td>\n",
       "      <td>53.7964</td>\n",
       "      <td>-1.5477</td>\n",
       "      <td>67.64</td>\n",
       "      <td>57</td>\n",
       "      <td>40</td>\n",
       "      <td>11.50</td>\n",
       "      <td>GB</td>\n",
       "      <td>2022-04-16 17:22:08</td>\n",
       "    </tr>\n",
       "    <tr>\n",
       "      <th>62</th>\n",
       "      <td>Barmer</td>\n",
       "      <td>25.7500</td>\n",
       "      <td>71.3833</td>\n",
       "      <td>87.78</td>\n",
       "      <td>27</td>\n",
       "      <td>22</td>\n",
       "      <td>11.56</td>\n",
       "      <td>IN</td>\n",
       "      <td>2022-04-16 17:25:57</td>\n",
       "    </tr>\n",
       "    <tr>\n",
       "      <th>64</th>\n",
       "      <td>Balkanabat</td>\n",
       "      <td>39.5108</td>\n",
       "      <td>54.3671</td>\n",
       "      <td>60.57</td>\n",
       "      <td>55</td>\n",
       "      <td>100</td>\n",
       "      <td>8.90</td>\n",
       "      <td>TM</td>\n",
       "      <td>2022-04-16 17:25:58</td>\n",
       "    </tr>\n",
       "    <tr>\n",
       "      <th>66</th>\n",
       "      <td>Novelda</td>\n",
       "      <td>38.3848</td>\n",
       "      <td>-0.7677</td>\n",
       "      <td>77.32</td>\n",
       "      <td>51</td>\n",
       "      <td>10</td>\n",
       "      <td>6.82</td>\n",
       "      <td>ES</td>\n",
       "      <td>2022-04-16 17:25:58</td>\n",
       "    </tr>\n",
       "  </tbody>\n",
       "</table>\n",
       "</div>"
      ],
      "text/plain": [
       "              City      Lat       Lng  Max Temp  Humidity  Cloudiness  \\\n",
       "0          Chapais  49.7834  -74.8492     31.78        72          99   \n",
       "3            Parad  47.9232   20.0297     44.91        57          90   \n",
       "5           Narsaq  60.9167  -46.0500     41.22        63           1   \n",
       "6          Salalah  17.0151   54.0924     82.49        83          20   \n",
       "7          Qaanaaq  77.4840  -69.3632     -8.86        74          77   \n",
       "9           Jibuti  11.5000   42.5000     82.02        43          11   \n",
       "11       Jamestown  42.0970  -79.2353     45.01        69          75   \n",
       "13          Guarda  40.5373   -7.2658     71.91        41          21   \n",
       "14    Saint George  37.1041 -113.5841     72.25        22           0   \n",
       "15     San Lawrenz  36.0553   14.2040     59.86        77          82   \n",
       "17         Salinas  36.6777 -121.6555     58.82        81          75   \n",
       "21        Hazorasp  41.3194   61.0742     64.24        38          95   \n",
       "23        Chabahar  25.2919   60.6430     84.51        60          48   \n",
       "24       Vestmanna  62.1564   -7.1664     45.52        93         100   \n",
       "25    Ponta Do Sol  32.6667  -17.1000     75.13        38         100   \n",
       "26     Brattleboro  42.8509  -72.5579     61.21        61         100   \n",
       "27          Torbay  47.6666  -52.7314     54.75        58           0   \n",
       "28      Hammerfest  70.6634   23.6821     39.65        93         100   \n",
       "29    Longyearbyen  78.2186   15.6401     26.44        80          75   \n",
       "30          Dikson  73.5069   80.5464     12.96        94         100   \n",
       "34         Margate  51.3813    1.3862     53.87        79           3   \n",
       "35      Georgetown   5.4112  100.3354     82.33        88          20   \n",
       "38     Pangnirtung  66.1451  -65.7125      5.00        66          20   \n",
       "39    Manzil Salim  35.8567    8.4765     57.92        47          82   \n",
       "40         Larsnes  62.2028    5.5773     52.39        70         100   \n",
       "41        Buchanan   5.8808  -10.0467     83.30        75          91   \n",
       "42        Klaksvik  62.2266   -6.5890     49.12        91          96   \n",
       "43        Shaygino  57.7675   46.8618     30.67        82         100   \n",
       "44           Forio  40.7342   13.8646     70.92        71          82   \n",
       "46        Mosquera   4.7059  -74.2302     68.09        49          75   \n",
       "49  Vestmannaeyjar  63.4427  -20.2734     47.39       100         100   \n",
       "50          Laguna  38.4210 -121.4238     61.11        81          75   \n",
       "52       Siniscola  40.5719    9.6922     71.15        60           0   \n",
       "54            Abha  18.2164   42.5053     67.82        42           0   \n",
       "56          Shetpe  44.1667   52.1167     57.81        50          11   \n",
       "59      Sao Filipe  14.8961  -24.4956     71.91        76           3   \n",
       "60           Leeds  53.7964   -1.5477     67.64        57          40   \n",
       "62          Barmer  25.7500   71.3833     87.78        27          22   \n",
       "64      Balkanabat  39.5108   54.3671     60.57        55         100   \n",
       "66         Novelda  38.3848   -0.7677     77.32        51          10   \n",
       "\n",
       "    Wind Speed Country                 Date  \n",
       "0        11.65      CA  2022-04-16 17:24:39  \n",
       "3        14.52      HU  2022-04-16 17:24:40  \n",
       "5         1.72      GL  2022-04-16 17:24:41  \n",
       "6         6.91      OM  2022-04-16 17:24:42  \n",
       "7         8.05      GL  2022-04-16 17:24:42  \n",
       "9        10.16      DJ  2022-04-16 17:24:42  \n",
       "11       14.97      US  2022-04-16 17:20:47  \n",
       "13        4.29      PT  2022-04-16 17:24:43  \n",
       "14       13.80      US  2022-04-16 17:15:35  \n",
       "15        1.99      MT  2022-04-16 17:24:44  \n",
       "17       13.80      US  2022-04-16 17:24:44  \n",
       "21       19.17      UZ  2022-04-16 17:24:45  \n",
       "23        8.25      IR  2022-04-16 17:24:46  \n",
       "24       17.27      FO  2022-04-16 17:24:46  \n",
       "25        7.34      PT  2022-04-16 17:24:47  \n",
       "26        3.00      US  2022-04-16 17:24:47  \n",
       "27       27.63      CA  2022-04-16 17:15:17  \n",
       "28       23.02      NO  2022-04-16 17:20:49  \n",
       "29       12.66      SJ  2022-04-16 17:19:37  \n",
       "30       15.41      RU  2022-04-16 17:24:48  \n",
       "34        4.00      GB  2022-04-16 17:21:00  \n",
       "35        2.30      MY  2022-04-16 17:23:31  \n",
       "38        4.61      CA  2022-04-16 17:24:50  \n",
       "39       16.49      TN  2022-04-16 17:24:50  \n",
       "40       10.92      NO  2022-04-16 17:24:50  \n",
       "41        7.56      LR  2022-04-16 17:24:51  \n",
       "42       18.43      FO  2022-04-16 17:20:46  \n",
       "43        5.75      RU  2022-04-16 17:24:51  \n",
       "44        6.24      IT  2022-04-16 17:18:12  \n",
       "46       14.97      CO  2022-04-16 17:25:52  \n",
       "49       14.97      IS  2022-04-16 17:25:53  \n",
       "50       11.50      US  2022-04-16 17:22:01  \n",
       "52        5.50      IT  2022-04-16 17:25:54  \n",
       "54        6.91      SA  2022-04-16 17:25:54  \n",
       "56       11.77      KZ  2022-04-16 17:25:55  \n",
       "59       12.73      CV  2022-04-16 17:19:33  \n",
       "60       11.50      GB  2022-04-16 17:22:08  \n",
       "62       11.56      IN  2022-04-16 17:25:57  \n",
       "64        8.90      TM  2022-04-16 17:25:58  \n",
       "66        6.82      ES  2022-04-16 17:25:58  "
      ]
     },
     "execution_count": 62,
     "metadata": {},
     "output_type": "execute_result"
    }
   ],
   "source": [
    "city_data_df.loc[(city_data_df[\"Lat\"] >= 0)]"
   ]
  },
  {
   "cell_type": "code",
   "execution_count": 63,
   "id": "5eef2f3c",
   "metadata": {},
   "outputs": [
    {
     "data": {
      "text/html": [
       "<div>\n",
       "<style scoped>\n",
       "    .dataframe tbody tr th:only-of-type {\n",
       "        vertical-align: middle;\n",
       "    }\n",
       "\n",
       "    .dataframe tbody tr th {\n",
       "        vertical-align: top;\n",
       "    }\n",
       "\n",
       "    .dataframe thead th {\n",
       "        text-align: right;\n",
       "    }\n",
       "</style>\n",
       "<table border=\"1\" class=\"dataframe\">\n",
       "  <thead>\n",
       "    <tr style=\"text-align: right;\">\n",
       "      <th></th>\n",
       "      <th>City</th>\n",
       "      <th>Lat</th>\n",
       "      <th>Lng</th>\n",
       "      <th>Max Temp</th>\n",
       "      <th>Humidity</th>\n",
       "      <th>Cloudiness</th>\n",
       "      <th>Wind Speed</th>\n",
       "      <th>Country</th>\n",
       "      <th>Date</th>\n",
       "    </tr>\n",
       "  </thead>\n",
       "  <tbody>\n",
       "    <tr>\n",
       "      <th>0</th>\n",
       "      <td>Chapais</td>\n",
       "      <td>49.7834</td>\n",
       "      <td>-74.8492</td>\n",
       "      <td>31.78</td>\n",
       "      <td>72</td>\n",
       "      <td>99</td>\n",
       "      <td>11.65</td>\n",
       "      <td>CA</td>\n",
       "      <td>2022-04-16 17:24:39</td>\n",
       "    </tr>\n",
       "    <tr>\n",
       "      <th>3</th>\n",
       "      <td>Parad</td>\n",
       "      <td>47.9232</td>\n",
       "      <td>20.0297</td>\n",
       "      <td>44.91</td>\n",
       "      <td>57</td>\n",
       "      <td>90</td>\n",
       "      <td>14.52</td>\n",
       "      <td>HU</td>\n",
       "      <td>2022-04-16 17:24:40</td>\n",
       "    </tr>\n",
       "    <tr>\n",
       "      <th>5</th>\n",
       "      <td>Narsaq</td>\n",
       "      <td>60.9167</td>\n",
       "      <td>-46.0500</td>\n",
       "      <td>41.22</td>\n",
       "      <td>63</td>\n",
       "      <td>1</td>\n",
       "      <td>1.72</td>\n",
       "      <td>GL</td>\n",
       "      <td>2022-04-16 17:24:41</td>\n",
       "    </tr>\n",
       "    <tr>\n",
       "      <th>6</th>\n",
       "      <td>Salalah</td>\n",
       "      <td>17.0151</td>\n",
       "      <td>54.0924</td>\n",
       "      <td>82.49</td>\n",
       "      <td>83</td>\n",
       "      <td>20</td>\n",
       "      <td>6.91</td>\n",
       "      <td>OM</td>\n",
       "      <td>2022-04-16 17:24:42</td>\n",
       "    </tr>\n",
       "    <tr>\n",
       "      <th>7</th>\n",
       "      <td>Qaanaaq</td>\n",
       "      <td>77.4840</td>\n",
       "      <td>-69.3632</td>\n",
       "      <td>-8.86</td>\n",
       "      <td>74</td>\n",
       "      <td>77</td>\n",
       "      <td>8.05</td>\n",
       "      <td>GL</td>\n",
       "      <td>2022-04-16 17:24:42</td>\n",
       "    </tr>\n",
       "  </tbody>\n",
       "</table>\n",
       "</div>"
      ],
      "text/plain": [
       "      City      Lat      Lng  Max Temp  Humidity  Cloudiness  Wind Speed  \\\n",
       "0  Chapais  49.7834 -74.8492     31.78        72          99       11.65   \n",
       "3    Parad  47.9232  20.0297     44.91        57          90       14.52   \n",
       "5   Narsaq  60.9167 -46.0500     41.22        63           1        1.72   \n",
       "6  Salalah  17.0151  54.0924     82.49        83          20        6.91   \n",
       "7  Qaanaaq  77.4840 -69.3632     -8.86        74          77        8.05   \n",
       "\n",
       "  Country                 Date  \n",
       "0      CA  2022-04-16 17:24:39  \n",
       "3      HU  2022-04-16 17:24:40  \n",
       "5      GL  2022-04-16 17:24:41  \n",
       "6      OM  2022-04-16 17:24:42  \n",
       "7      GL  2022-04-16 17:24:42  "
      ]
     },
     "execution_count": 63,
     "metadata": {},
     "output_type": "execute_result"
    }
   ],
   "source": [
    "city_data_df.loc[(city_data_df[\"Lat\"] >= 0)].head()"
   ]
  },
  {
   "cell_type": "code",
   "execution_count": 64,
   "id": "cd43e4a3",
   "metadata": {},
   "outputs": [],
   "source": [
    "# Create Northern and Southern Hemisphere DataFrames.\n",
    "northern_hemi_df = city_data_df.loc[(city_data_df[\"Lat\"] >= 0)]\n",
    "southern_hemi_df = city_data_df.loc[(city_data_df[\"Lat\"] < 0)]"
   ]
  },
  {
   "cell_type": "code",
   "execution_count": 65,
   "id": "c3f709f7",
   "metadata": {},
   "outputs": [
    {
     "data": {
      "image/png": "[encoded data removed]",
      "text/plain": [
       "<Figure size 432x288 with 1 Axes>"
      ]
     },
     "metadata": {
      "needs_background": "light"
     },
     "output_type": "display_data"
    }
   ],
   "source": [
    "# Linear regression on the Northern Hemisphere\n",
    "x_values = northern_hemi_df[\"Lat\"]\n",
    "y_values = northern_hemi_df[\"Max Temp\"]\n",
    "\n",
    "# Call the function.\n",
    "plot_linear_regression(x_values, y_values,\n",
    "                       'Linear Regression on the Northern Hemisphere \\\n",
    "                        for Maximum Temperature', 'Max Temp',(10,40))"
   ]
  },
  {
   "cell_type": "code",
   "execution_count": 66,
   "id": "94a8ac70",
   "metadata": {},
   "outputs": [
    {
     "data": {
      "image/png": "[encoded data removed]",
      "text/plain": [
       "<Figure size 432x288 with 1 Axes>"
      ]
     },
     "metadata": {
      "needs_background": "light"
     },
     "output_type": "display_data"
    }
   ],
   "source": [
    "# Linear regression on the Southern Hemisphere\n",
    "x_values = southern_hemi_df[\"Lat\"]\n",
    "y_values = southern_hemi_df[\"Max Temp\"]\n",
    "\n",
    "# Call the function.\n",
    "plot_linear_regression(x_values, y_values,\n",
    "                       'Linear Regression on the Southern Hemisphere \\n for Maximum Temperature', 'Max Temp',(-50,90))"
   ]
  },
  {
   "cell_type": "code",
   "execution_count": 67,
   "id": "e8a04c0f",
   "metadata": {},
   "outputs": [
    {
     "data": {
      "image/png": "[encoded data removed]",
      "text/plain": [
       "<Figure size 432x288 with 1 Axes>"
      ]
     },
     "metadata": {
      "needs_background": "light"
     },
     "output_type": "display_data"
    }
   ],
   "source": [
    "# Linear regression on the Northern Hemisphere\n",
    "x_values = northern_hemi_df[\"Lat\"]\n",
    "y_values = northern_hemi_df[\"Humidity\"]\n",
    "\n",
    "# Call the function.\n",
    "plot_linear_regression(x_values, y_values,\n",
    "                       'Linear Regression on the Northern Hemisphere \\n for % Humidity', '% Humidity',(40,10))"
   ]
  },
  {
   "cell_type": "code",
   "execution_count": 68,
   "id": "618e2542",
   "metadata": {},
   "outputs": [
    {
     "data": {
      "image/png": "[encoded data removed]",
      "text/plain": [
       "<Figure size 432x288 with 1 Axes>"
      ]
     },
     "metadata": {
      "needs_background": "light"
     },
     "output_type": "display_data"
    }
   ],
   "source": [
    "# Linear regression on the Southern Hemisphere\n",
    "x_values = southern_hemi_df[\"Lat\"]\n",
    "y_values = southern_hemi_df[\"Humidity\"]\n",
    "\n",
    "# Call the function.\n",
    "plot_linear_regression(x_values, y_values,\n",
    "                       'Linear Regression on the Southern Hemisphere \\n for % Humidity', '% Humidity',(-50,15))"
   ]
  },
  {
   "cell_type": "code",
   "execution_count": 69,
   "id": "6abf5743",
   "metadata": {},
   "outputs": [
    {
     "data": {
      "image/png": "[encoded data removed]",
      "text/plain": [
       "<Figure size 432x288 with 1 Axes>"
      ]
     },
     "metadata": {
      "needs_background": "light"
     },
     "output_type": "display_data"
    }
   ],
   "source": [
    "# Linear regression, Percent Cloudiness for the Northern Hemisphere\n",
    "x_values = northern_hemi_df[\"Lat\"]\n",
    "y_values = northern_hemi_df[\"Cloudiness\"]\n",
    "\n",
    "# Call the function.\n",
    "plot_linear_regression(x_values, y_values,\n",
    "                       'Linear Regression on the Northern Hemisphere \\n for % Cloudiness', '% Cloudiness',(-50,60))"
   ]
  },
  {
   "cell_type": "code",
   "execution_count": 70,
   "id": "47ac160f",
   "metadata": {},
   "outputs": [
    {
     "data": {
      "image/png": "[encoded data removed]",
      "text/plain": [
       "<Figure size 432x288 with 1 Axes>"
      ]
     },
     "metadata": {
      "needs_background": "light"
     },
     "output_type": "display_data"
    }
   ],
   "source": [
    "# Linear regression on the Southern Hemisphere\n",
    "x_values = southern_hemi_df[\"Lat\"]\n",
    "y_values = southern_hemi_df[\"Cloudiness\"]\n",
    "\n",
    "# Call the function.\n",
    "plot_linear_regression(x_values, y_values,\n",
    "                       'Linear Regression on the Southern Hemisphere \\n for % Cloudiness', '% Cloudiness',(-50,60))"
   ]
  },
  {
   "cell_type": "code",
   "execution_count": 71,
   "id": "7f8b01b6",
   "metadata": {},
   "outputs": [
    {
     "data": {
      "image/png": "[encoded data removed]",
      "text/plain": [
       "<Figure size 432x288 with 1 Axes>"
      ]
     },
     "metadata": {
      "needs_background": "light"
     },
     "output_type": "display_data"
    }
   ],
   "source": [
    "# Linear regression on the Northern Hemisphere\n",
    "x_values = northern_hemi_df[\"Lat\"]\n",
    "y_values = northern_hemi_df[\"Wind Speed\"]\n",
    "\n",
    "# Call the function.\n",
    "plot_linear_regression(x_values, y_values,\n",
    "                       'Linear Regression on the Northern Hemisphere \\n for Wind Speed', 'Wind Speed',(40,35))"
   ]
  },
  {
   "cell_type": "code",
   "execution_count": 72,
   "id": "c5f3a17d",
   "metadata": {},
   "outputs": [
    {
     "data": {
      "image/png": "[encoded data removed]",
      "text/plain": [
       "<Figure size 432x288 with 1 Axes>"
      ]
     },
     "metadata": {
      "needs_background": "light"
     },
     "output_type": "display_data"
    }
   ],
   "source": [
    "# Linear regression on the Southern Hemisphere\n",
    "x_values = southern_hemi_df[\"Lat\"]\n",
    "y_values = southern_hemi_df[\"Wind Speed\"]\n",
    "\n",
    "# Call the function.\n",
    "plot_linear_regression(x_values, y_values,\n",
    "                       'Linear Regression on the Southern Hemisphere \\n for Wind Speed', 'Wind Speed',(-50,35))"
   ]
  }
 ],
 "metadata": {
  "kernelspec": {
   "display_name": "Python 3 (ipykernel)",
   "language": "python",
   "name": "python3"
  },
  "language_info": {
   "codemirror_mode": {
    "name": "ipython",
    "version": 3
   },
   "file_extension": ".py",
   "mimetype": "text/x-python",
   "name": "python",
   "nbconvert_exporter": "python",
   "pygments_lexer": "ipython3",
   "version": "3.9.7"
  }
 },
 "nbformat": 4,
 "nbformat_minor": 5
}
