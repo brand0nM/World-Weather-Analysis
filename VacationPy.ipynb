{
 "cells": [
  {
   "cell_type": "code",
   "execution_count": 1,
   "id": "b0642bce",
   "metadata": {},
   "outputs": [],
   "source": [
    "# Import the dependencies.\n",
    "import pandas as pd\n",
    "import gmaps\n",
    "import requests\n",
    "\n",
    "# Import the API key.\n",
    "from config import g_key"
   ]
  },
  {
   "cell_type": "code",
   "execution_count": 2,
   "id": "6c5e74bd",
   "metadata": {},
   "outputs": [
    {
     "data": {
      "text/html": [
       "<div>\n",
       "<style scoped>\n",
       "    .dataframe tbody tr th:only-of-type {\n",
       "        vertical-align: middle;\n",
       "    }\n",
       "\n",
       "    .dataframe tbody tr th {\n",
       "        vertical-align: top;\n",
       "    }\n",
       "\n",
       "    .dataframe thead th {\n",
       "        text-align: right;\n",
       "    }\n",
       "</style>\n",
       "<table border=\"1\" class=\"dataframe\">\n",
       "  <thead>\n",
       "    <tr style=\"text-align: right;\">\n",
       "      <th></th>\n",
       "      <th>City_ID</th>\n",
       "      <th>City</th>\n",
       "      <th>Lat</th>\n",
       "      <th>Lng</th>\n",
       "      <th>Max Temp</th>\n",
       "      <th>Humidity</th>\n",
       "      <th>Cloudiness</th>\n",
       "      <th>Wind Speed</th>\n",
       "      <th>Country</th>\n",
       "      <th>Date</th>\n",
       "    </tr>\n",
       "  </thead>\n",
       "  <tbody>\n",
       "    <tr>\n",
       "      <th>0</th>\n",
       "      <td>0</td>\n",
       "      <td>Kribi</td>\n",
       "      <td>2.9500</td>\n",
       "      <td>9.9167</td>\n",
       "      <td>80.69</td>\n",
       "      <td>85</td>\n",
       "      <td>83</td>\n",
       "      <td>10.18</td>\n",
       "      <td>CM</td>\n",
       "      <td>2022-04-16 17:57:12</td>\n",
       "    </tr>\n",
       "    <tr>\n",
       "      <th>1</th>\n",
       "      <td>1</td>\n",
       "      <td>Walvis Bay</td>\n",
       "      <td>-22.9575</td>\n",
       "      <td>14.5053</td>\n",
       "      <td>59.95</td>\n",
       "      <td>82</td>\n",
       "      <td>13</td>\n",
       "      <td>6.91</td>\n",
       "      <td>NaN</td>\n",
       "      <td>2022-04-16 17:57:13</td>\n",
       "    </tr>\n",
       "    <tr>\n",
       "      <th>2</th>\n",
       "      <td>2</td>\n",
       "      <td>Abalak</td>\n",
       "      <td>58.1286</td>\n",
       "      <td>68.5944</td>\n",
       "      <td>41.04</td>\n",
       "      <td>91</td>\n",
       "      <td>95</td>\n",
       "      <td>11.27</td>\n",
       "      <td>RU</td>\n",
       "      <td>2022-04-16 17:57:13</td>\n",
       "    </tr>\n",
       "    <tr>\n",
       "      <th>3</th>\n",
       "      <td>3</td>\n",
       "      <td>Bar-Le-Duc</td>\n",
       "      <td>48.7500</td>\n",
       "      <td>5.1667</td>\n",
       "      <td>61.18</td>\n",
       "      <td>71</td>\n",
       "      <td>1</td>\n",
       "      <td>12.73</td>\n",
       "      <td>FR</td>\n",
       "      <td>2022-04-16 17:57:14</td>\n",
       "    </tr>\n",
       "    <tr>\n",
       "      <th>4</th>\n",
       "      <td>4</td>\n",
       "      <td>Kibaya</td>\n",
       "      <td>-5.3000</td>\n",
       "      <td>36.5667</td>\n",
       "      <td>59.85</td>\n",
       "      <td>99</td>\n",
       "      <td>100</td>\n",
       "      <td>0.81</td>\n",
       "      <td>TZ</td>\n",
       "      <td>2022-04-16 17:57:14</td>\n",
       "    </tr>\n",
       "  </tbody>\n",
       "</table>\n",
       "</div>"
      ],
      "text/plain": [
       "   City_ID        City      Lat      Lng  Max Temp  Humidity  Cloudiness  \\\n",
       "0        0       Kribi   2.9500   9.9167     80.69        85          83   \n",
       "1        1  Walvis Bay -22.9575  14.5053     59.95        82          13   \n",
       "2        2      Abalak  58.1286  68.5944     41.04        91          95   \n",
       "3        3  Bar-Le-Duc  48.7500   5.1667     61.18        71           1   \n",
       "4        4      Kibaya  -5.3000  36.5667     59.85        99         100   \n",
       "\n",
       "   Wind Speed Country                 Date  \n",
       "0       10.18      CM  2022-04-16 17:57:12  \n",
       "1        6.91     NaN  2022-04-16 17:57:13  \n",
       "2       11.27      RU  2022-04-16 17:57:13  \n",
       "3       12.73      FR  2022-04-16 17:57:14  \n",
       "4        0.81      TZ  2022-04-16 17:57:14  "
      ]
     },
     "execution_count": 2,
     "metadata": {},
     "output_type": "execute_result"
    }
   ],
   "source": [
    "# Store the CSV you saved created in part one into a DataFrame.\n",
    "city_data_df = pd.read_csv(\"weather_data/cities.csv\")\n",
    "\n",
    "#remove negative values for ease\n",
    "city_data_df = city_data_df[city_data_df[\"Max Temp\"] >= 0]\n",
    "city_data_df.head()"
   ]
  },
  {
   "cell_type": "code",
   "execution_count": 3,
   "id": "b46d612c",
   "metadata": {},
   "outputs": [
    {
     "data": {
      "text/plain": [
       "City_ID         int64\n",
       "City           object\n",
       "Lat           float64\n",
       "Lng           float64\n",
       "Max Temp      float64\n",
       "Humidity        int64\n",
       "Cloudiness      int64\n",
       "Wind Speed    float64\n",
       "Country        object\n",
       "Date           object\n",
       "dtype: object"
      ]
     },
     "execution_count": 3,
     "metadata": {},
     "output_type": "execute_result"
    }
   ],
   "source": [
    "city_data_df.dtypes"
   ]
  },
  {
   "cell_type": "code",
   "execution_count": 4,
   "id": "2c930560",
   "metadata": {},
   "outputs": [],
   "source": [
    "# Configure gmaps to use your Google API key.\n",
    "gmaps.configure(api_key=g_key)"
   ]
  },
  {
   "cell_type": "code",
   "execution_count": 5,
   "id": "fee798ec",
   "metadata": {},
   "outputs": [
    {
     "data": {
      "application/vnd.jupyter.widget-view+json": {
       "model_id": "e14451f9cbd24610b44d510ff5a9de78",
       "version_major": 2,
       "version_minor": 0
      },
      "text/plain": [
       "Figure(layout=FigureLayout(height='420px'))"
      ]
     },
     "metadata": {},
     "output_type": "display_data"
    }
   ],
   "source": [
    "# Heatmap of temperature\n",
    "# Get the latitude and longitude.\n",
    "locations = city_data_df[[\"Lat\", \"Lng\"]]\n",
    "\n",
    "# Get the maximum temperature.\n",
    "max_temp = city_data_df[\"Max Temp\"]\n",
    "\n",
    "# Assign the figure variable.\n",
    "fig = gmaps.figure()\n",
    "\n",
    "# Assign the heatmap variable.\n",
    "heat_layer = gmaps.heatmap_layer(locations, weights=max_temp)\n",
    "\n",
    "# Add the heatmap layer.\n",
    "fig.add_layer(heat_layer)\n",
    "\n",
    "# Call the figure to plot the data.\n",
    "fig"
   ]
  },
  {
   "cell_type": "code",
   "execution_count": 6,
   "id": "044a9fbf",
   "metadata": {},
   "outputs": [
    {
     "data": {
      "application/vnd.jupyter.widget-view+json": {
       "model_id": "a48876857cb64fe4b6d3c1ce36847da2",
       "version_major": 2,
       "version_minor": 0
      },
      "text/plain": [
       "Figure(layout=FigureLayout(height='420px'))"
      ]
     },
     "metadata": {},
     "output_type": "display_data"
    }
   ],
   "source": [
    "# Heatmap of temperature\n",
    "# Get the latitude and longitude.\n",
    "locations = city_data_df[[\"Lat\", \"Lng\"]]\n",
    "\n",
    "# Get the maximum temperature.\n",
    "max_temp = city_data_df[\"Max Temp\"]\n",
    "\n",
    "# Assign the figure variable.\n",
    "fig = gmaps.figure()\n",
    "\n",
    "heat_layer = gmaps.heatmap_layer(locations, weights=max_temp) \n",
    "\n",
    "fig.add_layer(heat_layer)\n",
    "fig"
   ]
  },
  {
   "cell_type": "code",
   "execution_count": 7,
   "id": "c6633caf",
   "metadata": {},
   "outputs": [
    {
     "name": "stdout",
     "output_type": "stream",
     "text": [
      "[80.69, 59.95, 41.04, 61.18, 59.85, 76.59, 47.07, 83.52, 61.05, 62.71, 18.41, 62.31, 85.68, 80.08, 61.18, 70.57, 44.26, 49.26, 64.45, 81.75, 75.2, 13.1, 72.18, 58.8, 60.58, 63.14, 71.64, 55.38, 80.2, 36.55, 75.69, 68.02, 39.25, 29.03, 46.18, 70.12, 44.69, 46.04, 86.07, 40.75, 69.01, 57.18, 51.87, 65.68, 59.49, 84.04, 64.8, 81.97, 64.81, 76.08, 64.65, 77.07, 75.16, 79.86, 68.2, 62.33, 59.94, 80.64, 80.56, 57.51, 76.71, 82.33, 32.14, 79.45, 68.09, 73.44, 81.66, 86.04, 93.42, 73.06, 46.62, 39.06, 69.42, 59.97, 88.07, 77.29, 72.23, 67.51, 82.24, 75.47, 84.24, 37.62, 95.22, 62.46, 32.02, 17.62, 38.93, 84.18, 58.15, 91.22, 66.18, 62.29, 69.76, 65.48, 83.35, 59.43, 77.38, 33.53, 84.42, 59.68, 82.36, 82.02, 58.48, 89.04, 73.44, 36.34, 78.91, 69.84, 48.31, 80.33, 87.82, 86.09, 89.78, 57.11, 59.65, 59.34, 76.23, 75.36, 78.19, 87.53, 32.27, 94.23, 78.71, 31.84, 45.23, 59.61, 71.02, 56.75, 79.83, 65.62, 84.0, 39.13, 49.95, 64.18, 80.62, 32.72, 65.98, 26.44, 63.05, 52.48, 69.66, 46.18, 30.88, 94.98, 83.43, 75.58, 49.39, 46.35, 35.42, 67.33, 77.34, 48.11, 53.46, 47.55, 88.12, 68.07, 75.25, 75.92, 81.86, 84.94, 27.55, 79.34, 71.58, 39.13, 82.78, 75.72, 79.92, 5.0, 61.66, 16.68, 41.47, 61.88, 62.22, 77.85, 24.82, 59.54, 64.02, 39.88, 72.1, 83.8, 60.71, 75.43, 84.38, 89.13, 11.89, 88.79, 66.49, 29.01, 65.64, 85.57, 34.32, 5.7, 66.22, 81.1, 66.61, 84.76, 84.15, 71.44, 72.39, 32.23, 48.42, 62.92, 80.98, 77.86, 31.78, 85.77, 85.78, 46.36, 88.72, 88.0, 39.65, 75.7, 78.89, 84.34, 79.05, 93.81, 37.8, 68.86, 62.92, 72.1, 47.19, 43.56, 91.38, 53.15, 39.29, 82.33, 83.8, 48.69, 73.45, 47.75, 61.48, 25.21, 78.85, 73.6, 81.55, 49.68, 47.52, 49.33, 80.69, 82.26, 82.31, 65.95, 57.22, 82.29, 37.45, 26.78, 92.64, 64.38, 72.68, 84.13, 49.15, 68.07, 77.65, 59.88, 47.32, 22.3, 83.07, 87.64, 46.72, 70.95, 36.45, 77.45, 84.25, 61.09, 80.33, 63.64, 39.04, 82.35, 30.18, 76.03, 47.62, 66.2, 56.95, 11.26, 73.99, 85.64, 46.4, 46.54, 48.38, 71.28, 69.39, 71.22, 81.54, 76.08, 84.7, 72.12, 75.99, 21.81, 83.28, 95.29, 79.93, 57.52, 82.0, 89.69, 76.8, 87.19, 35.35, 66.94, 85.89, 88.61, 84.81, 91.08, 86.16, 84.81, 71.8, 78.21, 40.14, 57.49, 83.39, 45.52, 90.52, 82.22, 81.0, 41.7, 52.52, 52.52, 52.38, 82.49, 17.02, 47.17, 39.0, 83.86, 73.06, 36.16, 22.69, 48.94, 89.37, 37.18, 66.52, 67.93, 42.78, 89.01, 98.08, 69.26, 86.09, 82.47, 77.47, 55.67, 58.86, 89.67, 73.22, 49.86, 74.59, 92.57, 79.63, 89.17, 59.77, 67.59, 62.87, 82.08, 86.14, 61.7, 66.06, 41.13, 24.13, 23.43, 72.48, 58.6, 44.1, 60.66, 59.99, 67.17, 66.92, 72.21, 81.16, 87.94, 39.0, 90.63, 79.57, 42.87, 76.08, 87.94, 83.55, 65.73, 63.0, 82.6, 67.33, 69.6, 95.11, 67.1, 24.84, 42.58, 70.05, 89.22, 73.09, 71.49, 88.84, 55.0, 62.11, 32.18, 87.8, 87.75, 73.0, 56.86, 76.46, 47.66, 86.92, 82.15, 46.2, 63.81, 59.76, 68.72, 54.25, 83.39, 73.18, 67.32, 46.8, 47.68, 70.9, 78.71, 77.05, 49.89, 67.08, 43.83, 68.77, 82.69, 80.65, 72.21, 84.16, 53.58, 76.91, 81.0, 83.41, 86.04, 64.42, 81.5, 74.35, 75.87, 40.66, 96.24, 39.4, 70.79, 80.26, 88.32, 86.05, 71.26, 84.06, 86.0, 83.5, 61.92, 59.88, 85.21, 81.21, 56.23, 77.36, 73.42, 82.76, 66.33, 66.72, 71.74, 73.74, 84.24, 79.38, 51.66, 82.89, 80.78, 84.54, 95.86, 56.14, 69.48, 80.06, 81.84, 80.6, 79.59, 42.06, 78.03, 75.65, 48.67, 59.95, 60.3, 91.2, 88.0, 68.22, 55.54, 87.01, 54.82, 62.1, 14.83, 73.44, 45.86, 36.91, 95.2, 74.28, 82.08, 74.66, 84.85, 52.93, 64.24, 61.54, 83.98, 83.1, 46.81, 27.99, 86.56, 81.12, 95.11, 65.44, 84.96, 74.21, 91.31, 55.98, 63.07, 71.47, 8.24, 66.45, 97.66, 77.32, 8.58, 58.32, 38.35, 79.2, 85.78, 75.58, 63.5, 41.68, 78.91, 43.88, 70.77, 82.26, 67.77, 59.31, 83.07, 86.18, 83.05, 78.55, 63.66, 60.12, 57.38, 41.63, 81.77, 32.59, 88.45, 77.36, 67.37, 84.52, 89.85, 59.65, 39.65, 82.33, 71.83, 74.91, 83.91, 85.39, 79.29, 49.64, 63.16, 20.64, 54.5, 53.1, 76.96, 40.89, 66.54, 51.21, 79.05, 67.35, 74.71, 80.96, 82.49, 50.85, 64.74, 47.08, 66.61, 88.05, 68.5, 66.6, 78.91, 61.83, 79.27, 37.53, 64.56, 64.04, 81.23, 35.1]\n"
     ]
    }
   ],
   "source": [
    "# Get the maximum temperature.\n",
    "max_temp = city_data_df[\"Max Temp\"]\n",
    "temps = []\n",
    "\n",
    "for temp in max_temp:\n",
    "    temps.append(max(temp, 0))\n",
    "    \n",
    "print(temps)"
   ]
  },
  {
   "cell_type": "code",
   "execution_count": 8,
   "id": "aec882b2",
   "metadata": {},
   "outputs": [
    {
     "data": {
      "application/vnd.jupyter.widget-view+json": {
       "model_id": "9e83aa7f8e3345b1bb14315be606580f",
       "version_major": 2,
       "version_minor": 0
      },
      "text/plain": [
       "Figure(layout=FigureLayout(height='420px'))"
      ]
     },
     "metadata": {},
     "output_type": "display_data"
    }
   ],
   "source": [
    "# Heatmap of temperature\n",
    "# Get the latitude and longitude.\n",
    "locations = city_data_df[[\"Lat\", \"Lng\"]]\n",
    "\n",
    "# Get the maximum temperature.\n",
    "max_temp = city_data_df[\"Max Temp\"]\n",
    "\n",
    "# Assign the figure variable.\n",
    "fig = gmaps.figure()\n",
    "\n",
    "heat_layer = gmaps.heatmap_layer(locations, weights=temps)\n",
    "\n",
    "fig.add_layer(heat_layer)\n",
    "fig"
   ]
  },
  {
   "cell_type": "code",
   "execution_count": 9,
   "id": "89bda2cb",
   "metadata": {},
   "outputs": [
    {
     "data": {
      "application/vnd.jupyter.widget-view+json": {
       "model_id": "f81b348d58ae41c8b4863d0ba757ad73",
       "version_major": 2,
       "version_minor": 0
      },
      "text/plain": [
       "Figure(layout=FigureLayout(height='420px'))"
      ]
     },
     "metadata": {},
     "output_type": "display_data"
    }
   ],
   "source": [
    "# Heatmap of temperature\n",
    "# Get the latitude and longitude.\n",
    "locations = city_data_df[[\"Lat\", \"Lng\"]]\n",
    "\n",
    "# Get the maximum temperature.\n",
    "max_temp = city_data_df[\"Max Temp\"]\n",
    "\n",
    "# Assign the figure variable & change zoom/center\n",
    "fig = gmaps.figure(center=(30.0, 31.0), zoom_level=1.5)\n",
    "\n",
    "# Assign the heatmap variable.\n",
    "heat_layer = gmaps.heatmap_layer(locations, \n",
    "                                 weights=[max(temp, 0) for temp in max_temp], \n",
    "                                 dissipating=False, \n",
    "                                 max_intensity=300, \n",
    "                                 point_radius=4)\n",
    "# Add the heatmap layer.\n",
    "fig.add_layer(heat_layer)\n",
    "\n",
    "fig"
   ]
  },
  {
   "cell_type": "code",
   "execution_count": 10,
   "id": "096d6b18",
   "metadata": {},
   "outputs": [
    {
     "data": {
      "application/vnd.jupyter.widget-view+json": {
       "model_id": "1112e75dcf064350a30847d1a53a9a8f",
       "version_major": 2,
       "version_minor": 0
      },
      "text/plain": [
       "Figure(layout=FigureLayout(height='420px'))"
      ]
     },
     "metadata": {},
     "output_type": "display_data"
    }
   ],
   "source": [
    "# Heatmap of percent humidity\n",
    "locations = city_data_df[[\"Lat\", \"Lng\"]]\n",
    "humidity = city_data_df[\"Humidity\"]\n",
    "fig = gmaps.figure(center=(30.0, 31.0), zoom_level=1.5)\n",
    "heat_layer = gmaps.heatmap_layer(locations, weights=humidity, dissipating=False, max_intensity=300, point_radius=4)\n",
    "\n",
    "fig.add_layer(heat_layer)\n",
    "# Call the figure to plot the data.\n",
    "fig"
   ]
  },
  {
   "cell_type": "code",
   "execution_count": 11,
   "id": "388adc63",
   "metadata": {},
   "outputs": [
    {
     "name": "stdout",
     "output_type": "stream",
     "text": [
      "What is the minimum temperature you would like for your trip? 0\n",
      "What is the maximum temperature you would like for your trip? 40\n"
     ]
    },
    {
     "data": {
      "text/html": [
       "<div>\n",
       "<style scoped>\n",
       "    .dataframe tbody tr th:only-of-type {\n",
       "        vertical-align: middle;\n",
       "    }\n",
       "\n",
       "    .dataframe tbody tr th {\n",
       "        vertical-align: top;\n",
       "    }\n",
       "\n",
       "    .dataframe thead th {\n",
       "        text-align: right;\n",
       "    }\n",
       "</style>\n",
       "<table border=\"1\" class=\"dataframe\">\n",
       "  <thead>\n",
       "    <tr style=\"text-align: right;\">\n",
       "      <th></th>\n",
       "      <th>City_ID</th>\n",
       "      <th>City</th>\n",
       "      <th>Lat</th>\n",
       "      <th>Lng</th>\n",
       "      <th>Max Temp</th>\n",
       "      <th>Humidity</th>\n",
       "      <th>Cloudiness</th>\n",
       "      <th>Wind Speed</th>\n",
       "      <th>Country</th>\n",
       "      <th>Date</th>\n",
       "    </tr>\n",
       "  </thead>\n",
       "  <tbody>\n",
       "    <tr>\n",
       "      <th>10</th>\n",
       "      <td>10</td>\n",
       "      <td>Tazovskiy</td>\n",
       "      <td>67.4667</td>\n",
       "      <td>78.7000</td>\n",
       "      <td>18.41</td>\n",
       "      <td>94</td>\n",
       "      <td>100</td>\n",
       "      <td>14.52</td>\n",
       "      <td>RU</td>\n",
       "      <td>2022-04-16 17:57:16</td>\n",
       "    </tr>\n",
       "    <tr>\n",
       "      <th>21</th>\n",
       "      <td>21</td>\n",
       "      <td>Dikson</td>\n",
       "      <td>73.5069</td>\n",
       "      <td>80.5464</td>\n",
       "      <td>13.10</td>\n",
       "      <td>94</td>\n",
       "      <td>100</td>\n",
       "      <td>14.72</td>\n",
       "      <td>RU</td>\n",
       "      <td>2022-04-16 17:57:19</td>\n",
       "    </tr>\n",
       "    <tr>\n",
       "      <th>29</th>\n",
       "      <td>29</td>\n",
       "      <td>Lyuban</td>\n",
       "      <td>52.7985</td>\n",
       "      <td>28.0048</td>\n",
       "      <td>36.55</td>\n",
       "      <td>88</td>\n",
       "      <td>98</td>\n",
       "      <td>15.79</td>\n",
       "      <td>BY</td>\n",
       "      <td>2022-04-16 17:57:22</td>\n",
       "    </tr>\n",
       "    <tr>\n",
       "      <th>32</th>\n",
       "      <td>32</td>\n",
       "      <td>Svetlyy</td>\n",
       "      <td>54.6750</td>\n",
       "      <td>20.1347</td>\n",
       "      <td>39.25</td>\n",
       "      <td>78</td>\n",
       "      <td>26</td>\n",
       "      <td>12.57</td>\n",
       "      <td>RU</td>\n",
       "      <td>2022-04-16 17:57:23</td>\n",
       "    </tr>\n",
       "    <tr>\n",
       "      <th>33</th>\n",
       "      <td>33</td>\n",
       "      <td>Paamiut</td>\n",
       "      <td>61.9940</td>\n",
       "      <td>-49.6678</td>\n",
       "      <td>29.03</td>\n",
       "      <td>71</td>\n",
       "      <td>4</td>\n",
       "      <td>18.92</td>\n",
       "      <td>GL</td>\n",
       "      <td>2022-04-16 17:57:23</td>\n",
       "    </tr>\n",
       "    <tr>\n",
       "      <th>62</th>\n",
       "      <td>62</td>\n",
       "      <td>Nanortalik</td>\n",
       "      <td>60.1432</td>\n",
       "      <td>-45.2371</td>\n",
       "      <td>32.14</td>\n",
       "      <td>78</td>\n",
       "      <td>6</td>\n",
       "      <td>11.68</td>\n",
       "      <td>GL</td>\n",
       "      <td>2022-04-16 17:58:32</td>\n",
       "    </tr>\n",
       "    <tr>\n",
       "      <th>72</th>\n",
       "      <td>72</td>\n",
       "      <td>Maarianhamina</td>\n",
       "      <td>60.0973</td>\n",
       "      <td>19.9348</td>\n",
       "      <td>39.06</td>\n",
       "      <td>70</td>\n",
       "      <td>0</td>\n",
       "      <td>8.05</td>\n",
       "      <td>AX</td>\n",
       "      <td>2022-04-16 17:58:35</td>\n",
       "    </tr>\n",
       "    <tr>\n",
       "      <th>82</th>\n",
       "      <td>82</td>\n",
       "      <td>Tasiilaq</td>\n",
       "      <td>65.6145</td>\n",
       "      <td>-37.6368</td>\n",
       "      <td>37.62</td>\n",
       "      <td>97</td>\n",
       "      <td>100</td>\n",
       "      <td>17.47</td>\n",
       "      <td>GL</td>\n",
       "      <td>2022-04-16 17:58:39</td>\n",
       "    </tr>\n",
       "    <tr>\n",
       "      <th>85</th>\n",
       "      <td>85</td>\n",
       "      <td>Verkhnyaya Maksakovka</td>\n",
       "      <td>61.6350</td>\n",
       "      <td>50.9674</td>\n",
       "      <td>32.02</td>\n",
       "      <td>64</td>\n",
       "      <td>40</td>\n",
       "      <td>4.47</td>\n",
       "      <td>RU</td>\n",
       "      <td>2022-04-16 17:58:39</td>\n",
       "    </tr>\n",
       "    <tr>\n",
       "      <th>86</th>\n",
       "      <td>86</td>\n",
       "      <td>Ilulissat</td>\n",
       "      <td>69.2167</td>\n",
       "      <td>-51.1000</td>\n",
       "      <td>17.62</td>\n",
       "      <td>57</td>\n",
       "      <td>40</td>\n",
       "      <td>12.66</td>\n",
       "      <td>GL</td>\n",
       "      <td>2022-04-16 17:49:19</td>\n",
       "    </tr>\n",
       "  </tbody>\n",
       "</table>\n",
       "</div>"
      ],
      "text/plain": [
       "    City_ID                   City      Lat      Lng  Max Temp  Humidity  \\\n",
       "10       10              Tazovskiy  67.4667  78.7000     18.41        94   \n",
       "21       21                 Dikson  73.5069  80.5464     13.10        94   \n",
       "29       29                 Lyuban  52.7985  28.0048     36.55        88   \n",
       "32       32                Svetlyy  54.6750  20.1347     39.25        78   \n",
       "33       33                Paamiut  61.9940 -49.6678     29.03        71   \n",
       "62       62             Nanortalik  60.1432 -45.2371     32.14        78   \n",
       "72       72          Maarianhamina  60.0973  19.9348     39.06        70   \n",
       "82       82               Tasiilaq  65.6145 -37.6368     37.62        97   \n",
       "85       85  Verkhnyaya Maksakovka  61.6350  50.9674     32.02        64   \n",
       "86       86              Ilulissat  69.2167 -51.1000     17.62        57   \n",
       "\n",
       "    Cloudiness  Wind Speed Country                 Date  \n",
       "10         100       14.52      RU  2022-04-16 17:57:16  \n",
       "21         100       14.72      RU  2022-04-16 17:57:19  \n",
       "29          98       15.79      BY  2022-04-16 17:57:22  \n",
       "32          26       12.57      RU  2022-04-16 17:57:23  \n",
       "33           4       18.92      GL  2022-04-16 17:57:23  \n",
       "62           6       11.68      GL  2022-04-16 17:58:32  \n",
       "72           0        8.05      AX  2022-04-16 17:58:35  \n",
       "82         100       17.47      GL  2022-04-16 17:58:39  \n",
       "85          40        4.47      RU  2022-04-16 17:58:39  \n",
       "86          40       12.66      GL  2022-04-16 17:49:19  "
      ]
     },
     "execution_count": 11,
     "metadata": {},
     "output_type": "execute_result"
    }
   ],
   "source": [
    "# Ask the customer to add a minimum and maximum temperature value.\n",
    "min_temp = float(input(\"What is the minimum temperature you would like for your trip? \"))\n",
    "max_temp = float(input(\"What is the maximum temperature you would like for your trip? \"))\n",
    "\n",
    "# Filter the dataset to find the cities that fit the criteria.\n",
    "preferred_cities_df = city_data_df.loc[(city_data_df[\"Max Temp\"] <= max_temp) & \\\n",
    "                                       (city_data_df[\"Max Temp\"] >= min_temp)]\n",
    "preferred_cities_df.head(10)"
   ]
  },
  {
   "cell_type": "code",
   "execution_count": 12,
   "id": "e3740913",
   "metadata": {},
   "outputs": [
    {
     "data": {
      "text/plain": [
       "City_ID       67\n",
       "City          67\n",
       "Lat           67\n",
       "Lng           67\n",
       "Max Temp      67\n",
       "Humidity      67\n",
       "Cloudiness    67\n",
       "Wind Speed    67\n",
       "Country       67\n",
       "Date          67\n",
       "dtype: int64"
      ]
     },
     "execution_count": 12,
     "metadata": {},
     "output_type": "execute_result"
    }
   ],
   "source": [
    "preferred_cities_df.count()"
   ]
  },
  {
   "cell_type": "code",
   "execution_count": 13,
   "id": "f893ce36",
   "metadata": {},
   "outputs": [
    {
     "data": {
      "text/html": [
       "<div>\n",
       "<style scoped>\n",
       "    .dataframe tbody tr th:only-of-type {\n",
       "        vertical-align: middle;\n",
       "    }\n",
       "\n",
       "    .dataframe tbody tr th {\n",
       "        vertical-align: top;\n",
       "    }\n",
       "\n",
       "    .dataframe thead th {\n",
       "        text-align: right;\n",
       "    }\n",
       "</style>\n",
       "<table border=\"1\" class=\"dataframe\">\n",
       "  <thead>\n",
       "    <tr style=\"text-align: right;\">\n",
       "      <th></th>\n",
       "      <th>City</th>\n",
       "      <th>Country</th>\n",
       "      <th>Max Temp</th>\n",
       "      <th>Lat</th>\n",
       "      <th>Lng</th>\n",
       "      <th>Hotel Name</th>\n",
       "    </tr>\n",
       "  </thead>\n",
       "  <tbody>\n",
       "    <tr>\n",
       "      <th>10</th>\n",
       "      <td>Tazovskiy</td>\n",
       "      <td>RU</td>\n",
       "      <td>18.41</td>\n",
       "      <td>67.4667</td>\n",
       "      <td>78.7000</td>\n",
       "      <td></td>\n",
       "    </tr>\n",
       "    <tr>\n",
       "      <th>21</th>\n",
       "      <td>Dikson</td>\n",
       "      <td>RU</td>\n",
       "      <td>13.10</td>\n",
       "      <td>73.5069</td>\n",
       "      <td>80.5464</td>\n",
       "      <td></td>\n",
       "    </tr>\n",
       "    <tr>\n",
       "      <th>29</th>\n",
       "      <td>Lyuban</td>\n",
       "      <td>BY</td>\n",
       "      <td>36.55</td>\n",
       "      <td>52.7985</td>\n",
       "      <td>28.0048</td>\n",
       "      <td></td>\n",
       "    </tr>\n",
       "    <tr>\n",
       "      <th>32</th>\n",
       "      <td>Svetlyy</td>\n",
       "      <td>RU</td>\n",
       "      <td>39.25</td>\n",
       "      <td>54.6750</td>\n",
       "      <td>20.1347</td>\n",
       "      <td></td>\n",
       "    </tr>\n",
       "    <tr>\n",
       "      <th>33</th>\n",
       "      <td>Paamiut</td>\n",
       "      <td>GL</td>\n",
       "      <td>29.03</td>\n",
       "      <td>61.9940</td>\n",
       "      <td>-49.6678</td>\n",
       "      <td></td>\n",
       "    </tr>\n",
       "    <tr>\n",
       "      <th>62</th>\n",
       "      <td>Nanortalik</td>\n",
       "      <td>GL</td>\n",
       "      <td>32.14</td>\n",
       "      <td>60.1432</td>\n",
       "      <td>-45.2371</td>\n",
       "      <td></td>\n",
       "    </tr>\n",
       "    <tr>\n",
       "      <th>72</th>\n",
       "      <td>Maarianhamina</td>\n",
       "      <td>AX</td>\n",
       "      <td>39.06</td>\n",
       "      <td>60.0973</td>\n",
       "      <td>19.9348</td>\n",
       "      <td></td>\n",
       "    </tr>\n",
       "    <tr>\n",
       "      <th>82</th>\n",
       "      <td>Tasiilaq</td>\n",
       "      <td>GL</td>\n",
       "      <td>37.62</td>\n",
       "      <td>65.6145</td>\n",
       "      <td>-37.6368</td>\n",
       "      <td></td>\n",
       "    </tr>\n",
       "    <tr>\n",
       "      <th>85</th>\n",
       "      <td>Verkhnyaya Maksakovka</td>\n",
       "      <td>RU</td>\n",
       "      <td>32.02</td>\n",
       "      <td>61.6350</td>\n",
       "      <td>50.9674</td>\n",
       "      <td></td>\n",
       "    </tr>\n",
       "    <tr>\n",
       "      <th>86</th>\n",
       "      <td>Ilulissat</td>\n",
       "      <td>GL</td>\n",
       "      <td>17.62</td>\n",
       "      <td>69.2167</td>\n",
       "      <td>-51.1000</td>\n",
       "      <td></td>\n",
       "    </tr>\n",
       "  </tbody>\n",
       "</table>\n",
       "</div>"
      ],
      "text/plain": [
       "                     City Country  Max Temp      Lat      Lng Hotel Name\n",
       "10              Tazovskiy      RU     18.41  67.4667  78.7000           \n",
       "21                 Dikson      RU     13.10  73.5069  80.5464           \n",
       "29                 Lyuban      BY     36.55  52.7985  28.0048           \n",
       "32                Svetlyy      RU     39.25  54.6750  20.1347           \n",
       "33                Paamiut      GL     29.03  61.9940 -49.6678           \n",
       "62             Nanortalik      GL     32.14  60.1432 -45.2371           \n",
       "72          Maarianhamina      AX     39.06  60.0973  19.9348           \n",
       "82               Tasiilaq      GL     37.62  65.6145 -37.6368           \n",
       "85  Verkhnyaya Maksakovka      RU     32.02  61.6350  50.9674           \n",
       "86              Ilulissat      GL     17.62  69.2167 -51.1000           "
      ]
     },
     "execution_count": 13,
     "metadata": {},
     "output_type": "execute_result"
    }
   ],
   "source": [
    "# Create DataFrame called hotel_df to store hotel names along with city, country, max temp, and coordinates.\n",
    "hotel_df = preferred_cities_df[[\"City\", \"Country\", \"Max Temp\", \"Lat\", \"Lng\"]].copy()\n",
    "hotel_df[\"Hotel Name\"] = \"\"\n",
    "\n",
    "# Create the output file (CSV).\n",
    "output_data_file = \"weather_data/hotels.csv\"\n",
    "\n",
    "# Export the City_Data into a CSV.\n",
    "hotel_df.to_csv(output_data_file, index_label=\"City_ID\")\n",
    "\n",
    "hotel_df.head(10)"
   ]
  },
  {
   "cell_type": "code",
   "execution_count": 14,
   "id": "1ba01711",
   "metadata": {},
   "outputs": [],
   "source": [
    "# Set parameters to search for a hotel.\n",
    "params = {\n",
    "    \"radius\": 5000,\n",
    "    \"type\": \"lodging\",\n",
    "    \"key\": g_key\n",
    "}"
   ]
  }
 ],
 "metadata": {
  "kernelspec": {
   "display_name": "Python 3 (ipykernel)",
   "language": "python",
   "name": "python3"
  },
  "language_info": {
   "codemirror_mode": {
    "name": "ipython",
    "version": 3
   },
   "file_extension": ".py",
   "mimetype": "text/x-python",
   "name": "python",
   "nbconvert_exporter": "python",
   "pygments_lexer": "ipython3",
   "version": "3.9.7"
  }
 },
 "nbformat": 4,
 "nbformat_minor": 5
}
