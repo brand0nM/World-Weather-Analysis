{
 "cells": [
  {
   "cell_type": "code",
   "execution_count": 1,
   "id": "b0642bce",
   "metadata": {},
   "outputs": [],
   "source": [
    "# Import the dependencies.\n",
    "import pandas as pd\n",
    "import gmaps\n",
    "import requests\n",
    "\n",
    "# Import the API key.\n",
    "from config import g_key"
   ]
  },
  {
   "cell_type": "code",
   "execution_count": 2,
   "id": "6c5e74bd",
   "metadata": {},
   "outputs": [
    {
     "data": {
      "text/html": [
       "<div>\n",
       "<style scoped>\n",
       "    .dataframe tbody tr th:only-of-type {\n",
       "        vertical-align: middle;\n",
       "    }\n",
       "\n",
       "    .dataframe tbody tr th {\n",
       "        vertical-align: top;\n",
       "    }\n",
       "\n",
       "    .dataframe thead th {\n",
       "        text-align: right;\n",
       "    }\n",
       "</style>\n",
       "<table border=\"1\" class=\"dataframe\">\n",
       "  <thead>\n",
       "    <tr style=\"text-align: right;\">\n",
       "      <th></th>\n",
       "      <th>City_ID</th>\n",
       "      <th>City</th>\n",
       "      <th>Lat</th>\n",
       "      <th>Lng</th>\n",
       "      <th>Max Temp</th>\n",
       "      <th>Humidity</th>\n",
       "      <th>Cloudiness</th>\n",
       "      <th>Wind Speed</th>\n",
       "      <th>Country</th>\n",
       "      <th>Date</th>\n",
       "    </tr>\n",
       "  </thead>\n",
       "  <tbody>\n",
       "    <tr>\n",
       "      <th>0</th>\n",
       "      <td>0</td>\n",
       "      <td>Oranjemund</td>\n",
       "      <td>-28.5500</td>\n",
       "      <td>16.4333</td>\n",
       "      <td>59.76</td>\n",
       "      <td>74</td>\n",
       "      <td>0</td>\n",
       "      <td>13.82</td>\n",
       "      <td>NaN</td>\n",
       "      <td>2022-04-16 19:05:56</td>\n",
       "    </tr>\n",
       "    <tr>\n",
       "      <th>1</th>\n",
       "      <td>1</td>\n",
       "      <td>Ushuaia</td>\n",
       "      <td>-54.8000</td>\n",
       "      <td>-68.3000</td>\n",
       "      <td>44.26</td>\n",
       "      <td>61</td>\n",
       "      <td>40</td>\n",
       "      <td>10.36</td>\n",
       "      <td>AR</td>\n",
       "      <td>2022-04-16 19:06:10</td>\n",
       "    </tr>\n",
       "    <tr>\n",
       "      <th>2</th>\n",
       "      <td>2</td>\n",
       "      <td>Vestmannaeyjar</td>\n",
       "      <td>63.4427</td>\n",
       "      <td>-20.2734</td>\n",
       "      <td>47.03</td>\n",
       "      <td>94</td>\n",
       "      <td>98</td>\n",
       "      <td>18.81</td>\n",
       "      <td>IS</td>\n",
       "      <td>2022-04-16 19:07:51</td>\n",
       "    </tr>\n",
       "    <tr>\n",
       "      <th>3</th>\n",
       "      <td>3</td>\n",
       "      <td>Bopfingen</td>\n",
       "      <td>48.8500</td>\n",
       "      <td>10.3500</td>\n",
       "      <td>43.75</td>\n",
       "      <td>47</td>\n",
       "      <td>8</td>\n",
       "      <td>10.20</td>\n",
       "      <td>DE</td>\n",
       "      <td>2022-04-16 19:07:52</td>\n",
       "    </tr>\n",
       "    <tr>\n",
       "      <th>4</th>\n",
       "      <td>4</td>\n",
       "      <td>Sao Jose Da Coroa Grande</td>\n",
       "      <td>-8.8978</td>\n",
       "      <td>-35.1478</td>\n",
       "      <td>83.62</td>\n",
       "      <td>74</td>\n",
       "      <td>6</td>\n",
       "      <td>11.56</td>\n",
       "      <td>BR</td>\n",
       "      <td>2022-04-16 19:07:52</td>\n",
       "    </tr>\n",
       "  </tbody>\n",
       "</table>\n",
       "</div>"
      ],
      "text/plain": [
       "   City_ID                      City      Lat      Lng  Max Temp  Humidity  \\\n",
       "0        0                Oranjemund -28.5500  16.4333     59.76        74   \n",
       "1        1                   Ushuaia -54.8000 -68.3000     44.26        61   \n",
       "2        2            Vestmannaeyjar  63.4427 -20.2734     47.03        94   \n",
       "3        3                 Bopfingen  48.8500  10.3500     43.75        47   \n",
       "4        4  Sao Jose Da Coroa Grande  -8.8978 -35.1478     83.62        74   \n",
       "\n",
       "   Cloudiness  Wind Speed Country                 Date  \n",
       "0           0       13.82     NaN  2022-04-16 19:05:56  \n",
       "1          40       10.36      AR  2022-04-16 19:06:10  \n",
       "2          98       18.81      IS  2022-04-16 19:07:51  \n",
       "3           8       10.20      DE  2022-04-16 19:07:52  \n",
       "4           6       11.56      BR  2022-04-16 19:07:52  "
      ]
     },
     "execution_count": 2,
     "metadata": {},
     "output_type": "execute_result"
    }
   ],
   "source": [
    "# Store the CSV you saved created in part one into a DataFrame.\n",
    "city_data_df = pd.read_csv(\"weather_data/cities.csv\")\n",
    "\n",
    "#remove negative values for ease\n",
    "city_data_df = city_data_df[city_data_df[\"Max Temp\"] >= 0]\n",
    "city_data_df.head()"
   ]
  },
  {
   "cell_type": "code",
   "execution_count": 3,
   "id": "b46d612c",
   "metadata": {},
   "outputs": [
    {
     "data": {
      "text/plain": [
       "City_ID         int64\n",
       "City           object\n",
       "Lat           float64\n",
       "Lng           float64\n",
       "Max Temp      float64\n",
       "Humidity        int64\n",
       "Cloudiness      int64\n",
       "Wind Speed    float64\n",
       "Country        object\n",
       "Date           object\n",
       "dtype: object"
      ]
     },
     "execution_count": 3,
     "metadata": {},
     "output_type": "execute_result"
    }
   ],
   "source": [
    "city_data_df.dtypes"
   ]
  },
  {
   "cell_type": "code",
   "execution_count": 4,
   "id": "2c930560",
   "metadata": {},
   "outputs": [],
   "source": [
    "# Configure gmaps to use your Google API key.\n",
    "gmaps.configure(api_key=g_key)"
   ]
  },
  {
   "cell_type": "code",
   "execution_count": 5,
   "id": "fee798ec",
   "metadata": {},
   "outputs": [
    {
     "data": {
      "application/vnd.jupyter.widget-view+json": {
       "model_id": "cd3905d7cd5a4f08b2a4e2e7049d24a9",
       "version_major": 2,
       "version_minor": 0
      },
      "text/plain": [
       "Figure(layout=FigureLayout(height='420px'))"
      ]
     },
     "metadata": {},
     "output_type": "display_data"
    }
   ],
   "source": [
    "# Heatmap of temperature\n",
    "# Get the latitude and longitude.\n",
    "locations = city_data_df[[\"Lat\", \"Lng\"]]\n",
    "\n",
    "# Get the maximum temperature.\n",
    "max_temp = city_data_df[\"Max Temp\"]\n",
    "\n",
    "# Assign the figure variable.\n",
    "fig = gmaps.figure()\n",
    "\n",
    "# Assign the heatmap variable.\n",
    "heat_layer = gmaps.heatmap_layer(locations, weights=max_temp)\n",
    "\n",
    "# Add the heatmap layer.\n",
    "fig.add_layer(heat_layer)\n",
    "\n",
    "# Call the figure to plot the data.\n",
    "fig"
   ]
  },
  {
   "cell_type": "code",
   "execution_count": 6,
   "id": "044a9fbf",
   "metadata": {},
   "outputs": [
    {
     "data": {
      "application/vnd.jupyter.widget-view+json": {
       "model_id": "08c9b662f45049aab3067be183dca495",
       "version_major": 2,
       "version_minor": 0
      },
      "text/plain": [
       "Figure(layout=FigureLayout(height='420px'))"
      ]
     },
     "metadata": {},
     "output_type": "display_data"
    }
   ],
   "source": [
    "# Heatmap of temperature\n",
    "# Get the latitude and longitude.\n",
    "locations = city_data_df[[\"Lat\", \"Lng\"]]\n",
    "\n",
    "# Get the maximum temperature.\n",
    "max_temp = city_data_df[\"Max Temp\"]\n",
    "\n",
    "# Assign the figure variable.\n",
    "fig = gmaps.figure()\n",
    "\n",
    "heat_layer = gmaps.heatmap_layer(locations, weights=max_temp) \n",
    "\n",
    "fig.add_layer(heat_layer)\n",
    "fig"
   ]
  },
  {
   "cell_type": "code",
   "execution_count": 7,
   "id": "c6633caf",
   "metadata": {},
   "outputs": [
    {
     "name": "stdout",
     "output_type": "stream",
     "text": [
      "[59.76, 44.26, 47.03, 43.75, 83.62, 60.3, 63.12, 53.28, 70.88, 81.84, 59.88, 62.31, 16.83, 67.78, 50.05, 77.38, 86.05, 64.47, 79.14, 87.06, 25.2, 58.91, 62.31, 64.69, 69.82, 59.95, 65.1, 58.8, 88.29, 88.2, 63.09, 76.78, 77.09, 74.93, 9.18, 91.9, 64.8, 92.44, 61.18, 46.45, 80.17, 83.01, 69.6, 26.94, 79.97, 84.06, 83.21, 82.38, 71.65, 84.38, 45.95, 90.57, 86.07, 37.78, 77.79, 60.66, 71.1, 72.72, 56.48, 83.3, 76.8, 41.22, 39.65, 76.12, 14.43, 35.62, 66.97, 72.18, 37.56, 78.39, 38.64, 84.78, 80.46, 77.25, 73.36, 77.63, 57.72, 67.73, 97.11, 68.22, 64.81, 77.18, 76.03, 24.64, 39.11, 17.85, 59.56, 78.49, 43.75, 76.5, 52.25, 84.81, 48.31, 83.16, 65.62, 77.13, 67.59, 50.92, 72.39, 27.5, 78.39, 85.1, 40.98, 37.26, 77.85, 41.25, 59.05, 37.81, 54.01, 43.83, 75.87, 83.86, 43.86, 56.84, 17.85, 59.7, 65.05, 69.37, 24.15, 47.53, 51.98, 54.79, 92.01, 74.57, 86.59, 52.0, 62.33, 58.86, 80.78, 87.24, 89.91, 81.61, 80.56, 9.7, 16.52, 44.02, 77.13, 75.06, 52.23, 36.93, 88.5, 56.7, 86.88, 57.88, 90.82, 26.31, 74.8, 59.86, 74.77, 48.38, 60.73, 84.6, 80.56, 27.21, 60.12, 86.29, 82.58, 36.5, 80.55, 70.25, 72.68, 12.38, 87.89, 78.42, 79.92, 66.29, 62.15, 70.39, 62.08, 38.95, 18.46, 40.78, 44.65, 82.38, 86.11, 79.48, 87.71, 51.85, 77.59, 30.02, 73.8, 47.32, 81.36, 40.8, 56.7, 77.22, 71.31, 77.27, 82.65, 71.76, 56.41, 57.49, 64.63, 65.12, 61.48, 44.6, 58.03, 79.72, 64.92, 83.32, 32.49, 92.5, 76.01, 56.39, 78.89, 89.65, 79.43, 81.43, 82.96, 83.26, 31.41, 77.38, 92.8, 78.75, 61.43, 80.74, 91.98, 78.69, 68.67, 74.75, 60.91, 74.48, 73.42, 72.48, 80.35, 74.73, 74.95, 56.34, 67.17, 44.94, 34.9, 65.05, 46.49, 80.53, 62.76, 83.39, 62.22, 80.69, 48.67, 50.7, 82.24, 60.48, 67.96, 43.25, 72.77, 24.21, 33.42, 64.53, 78.98, 44.6, 82.47, 33.93, 39.52, 75.27, 77.11, 64.94, 87.73, 94.01, 82.78, 71.85, 46.96, 82.47, 63.01, 75.99, 74.19, 57.11, 45.84, 87.76, 61.23, 83.12, 91.96, 80.13, 69.82, 79.38, 70.3, 83.57, 57.0, 62.53, 83.93, 48.2, 73.35, 58.41, 52.3, 17.62, 77.09, 70.12, 52.93, 50.72, 53.42, 6.69, 83.55, 22.95, 39.58, 75.72, 31.17, 48.85, 84.18, 51.48, 62.06, 81.43, 33.53, 66.61, 70.61, 39.87, 40.93, 74.82, 32.0, 72.9, 87.82, 44.35, 46.2, 28.02, 82.49, 30.27, 83.14, 39.61, 12.88, 81.05, 51.4, 39.4, 80.26, 62.83, 82.38, 32.0, 67.82, 62.24, 75.52, 39.24, 74.8, 79.84, 82.26, 70.88, 51.55, 65.12, 41.5, 82.72, 83.39, 68.76, 63.68, 49.71, 65.93, 71.51, 72.0, 58.44, 73.11, 74.12, 71.37, 82.02, 60.6, 66.09, 83.88, 67.82, 77.81, 35.38, 85.62, 55.65, 75.58, 72.07, 77.47, 64.51, 44.64, 63.45, 46.4, 68.13, 75.79, 64.18, 82.29, 68.09, 54.97, 53.1, 69.55, 77.54, 82.71, 87.31, 28.29, 78.82, 58.71, 74.35, 81.43, 65.23, 86.14, 75.92, 88.68, 78.26, 89.17, 41.27, 69.78, 76.21, 88.27, 63.55, 60.62, 83.61, 71.11, 74.26, 68.63, 24.26, 74.61, 80.42, 67.75, 63.32, 78.94, 77.16, 87.89, 93.18, 74.77, 74.34, 80.31, 66.18, 83.71, 58.75, 75.16, 86.49, 47.46, 61.63, 65.62, 84.2, 66.31, 76.68, 32.11, 86.09, 25.93, 41.45, 60.03, 75.15, 86.34, 14.43, 44.6, 54.27, 70.23, 62.55, 67.37, 52.02, 70.18, 43.86, 64.76, 75.54, 65.48, 64.44, 77.32, 85.89, 82.38, 14.52, 32.59, 84.96, 62.13, 86.67, 85.39, 58.06, 83.89, 46.47, 66.45, 69.08, 63.59, 59.61, 45.48, 77.47, 69.37, 85.96, 95.68, 23.07, 77.58, 52.11, 62.49, 44.53, 50.74, 56.98, 45.12, 80.6, 87.87, 49.17, 60.89, 89.83, 100.92, 70.2, 35.38, 75.83, 82.87, 80.2, 17.19, 70.05, 80.02, 96.48, 66.58, 71.49, 96.01, 93.18, 70.54, 51.4, 37.35, 31.82, 49.91, 84.42, 55.29, 71.1, 60.66, 30.9, 82.17, 74.57, 81.16, 5.86, 93.99, 42.06, 70.66, 73.9, 16.02, 81.88, 63.16, 57.29, 70.38, 48.51, 23.9, 84.15, 79.84, 40.59, 85.78, 71.4, 60.93, 17.33, 64.83, 58.73, 89.87, 62.92, 81.75, 70.03, 91.83, 46.09, 25.72, 36.64, 64.9, 51.87, 67.53, 35.31, 83.08, 78.64, 71.46, 72.97, 83.16, 38.35, 45.52, 83.43, 84.29, 42.48, 86.05, 76.96, 55.15, 28.49, 55.26, 83.35, 46.65, 85.37, 78.22, 82.49, 74.66, 69.22, 82.69, 67.86, 84.4, 87.98, 80.13, 69.64, 38.28, 75.16, 79.97, 80.98, 86.09, 81.61, 77.11, 46.58, 83.71, 66.58, 64.38, 30.6, 89.17, 64.54, 35.69, 66.4, 44.26, 70.9, 31.39, 44.74, 46.49]\n"
     ]
    }
   ],
   "source": [
    "# Get the maximum temperature.\n",
    "max_temp = city_data_df[\"Max Temp\"]\n",
    "temps = []\n",
    "\n",
    "for temp in max_temp:\n",
    "    temps.append(max(temp, 0))\n",
    "    \n",
    "print(temps)"
   ]
  },
  {
   "cell_type": "code",
   "execution_count": 8,
   "id": "aec882b2",
   "metadata": {},
   "outputs": [
    {
     "data": {
      "application/vnd.jupyter.widget-view+json": {
       "model_id": "14d7347091c642478ac88305965a9573",
       "version_major": 2,
       "version_minor": 0
      },
      "text/plain": [
       "Figure(layout=FigureLayout(height='420px'))"
      ]
     },
     "metadata": {},
     "output_type": "display_data"
    }
   ],
   "source": [
    "# Heatmap of temperature\n",
    "# Get the latitude and longitude.\n",
    "locations = city_data_df[[\"Lat\", \"Lng\"]]\n",
    "\n",
    "# Get the maximum temperature.\n",
    "max_temp = city_data_df[\"Max Temp\"]\n",
    "\n",
    "# Assign the figure variable.\n",
    "fig = gmaps.figure()\n",
    "\n",
    "heat_layer = gmaps.heatmap_layer(locations, weights=temps)\n",
    "\n",
    "fig.add_layer(heat_layer)\n",
    "fig"
   ]
  },
  {
   "cell_type": "code",
   "execution_count": 9,
   "id": "89bda2cb",
   "metadata": {},
   "outputs": [
    {
     "data": {
      "application/vnd.jupyter.widget-view+json": {
       "model_id": "09c79fdeb8b44e64873ba7a5003ef665",
       "version_major": 2,
       "version_minor": 0
      },
      "text/plain": [
       "Figure(layout=FigureLayout(height='420px'))"
      ]
     },
     "metadata": {},
     "output_type": "display_data"
    }
   ],
   "source": [
    "# Heatmap of temperature\n",
    "# Get the latitude and longitude.\n",
    "locations = city_data_df[[\"Lat\", \"Lng\"]]\n",
    "\n",
    "# Get the maximum temperature.\n",
    "max_temp = city_data_df[\"Max Temp\"]\n",
    "\n",
    "# Assign the figure variable & change zoom/center\n",
    "fig = gmaps.figure(center=(30.0, 31.0), zoom_level=1.5)\n",
    "\n",
    "# Assign the heatmap variable.\n",
    "heat_layer = gmaps.heatmap_layer(locations, \n",
    "                                 weights=[max(temp, 0) for temp in max_temp], \n",
    "                                 dissipating=False, \n",
    "                                 max_intensity=300, \n",
    "                                 point_radius=4)\n",
    "# Add the heatmap layer.\n",
    "fig.add_layer(heat_layer)\n",
    "\n",
    "fig"
   ]
  },
  {
   "cell_type": "code",
   "execution_count": 10,
   "id": "096d6b18",
   "metadata": {},
   "outputs": [
    {
     "data": {
      "application/vnd.jupyter.widget-view+json": {
       "model_id": "159f5c5f36784c21aaa85cb2780e728d",
       "version_major": 2,
       "version_minor": 0
      },
      "text/plain": [
       "Figure(layout=FigureLayout(height='420px'))"
      ]
     },
     "metadata": {},
     "output_type": "display_data"
    }
   ],
   "source": [
    "# Heatmap of percent humidity\n",
    "locations = city_data_df[[\"Lat\", \"Lng\"]]\n",
    "humidity = city_data_df[\"Humidity\"]\n",
    "fig = gmaps.figure(center=(30.0, 31.0), zoom_level=1.5)\n",
    "heat_layer = gmaps.heatmap_layer(locations, weights=humidity, dissipating=False, max_intensity=300, point_radius=4)\n",
    "\n",
    "fig.add_layer(heat_layer)\n",
    "# Call the figure to plot the data.\n",
    "fig"
   ]
  },
  {
   "cell_type": "code",
   "execution_count": 11,
   "id": "388adc63",
   "metadata": {},
   "outputs": [
    {
     "name": "stdout",
     "output_type": "stream",
     "text": [
      "What is the minimum temperature you would like for your trip? 40\n",
      "What is the maximum temperature you would like for your trip? 80\n"
     ]
    },
    {
     "data": {
      "text/html": [
       "<div>\n",
       "<style scoped>\n",
       "    .dataframe tbody tr th:only-of-type {\n",
       "        vertical-align: middle;\n",
       "    }\n",
       "\n",
       "    .dataframe tbody tr th {\n",
       "        vertical-align: top;\n",
       "    }\n",
       "\n",
       "    .dataframe thead th {\n",
       "        text-align: right;\n",
       "    }\n",
       "</style>\n",
       "<table border=\"1\" class=\"dataframe\">\n",
       "  <thead>\n",
       "    <tr style=\"text-align: right;\">\n",
       "      <th></th>\n",
       "      <th>City_ID</th>\n",
       "      <th>City</th>\n",
       "      <th>Lat</th>\n",
       "      <th>Lng</th>\n",
       "      <th>Max Temp</th>\n",
       "      <th>Humidity</th>\n",
       "      <th>Cloudiness</th>\n",
       "      <th>Wind Speed</th>\n",
       "      <th>Country</th>\n",
       "      <th>Date</th>\n",
       "    </tr>\n",
       "  </thead>\n",
       "  <tbody>\n",
       "    <tr>\n",
       "      <th>0</th>\n",
       "      <td>0</td>\n",
       "      <td>Oranjemund</td>\n",
       "      <td>-28.5500</td>\n",
       "      <td>16.4333</td>\n",
       "      <td>59.76</td>\n",
       "      <td>74</td>\n",
       "      <td>0</td>\n",
       "      <td>13.82</td>\n",
       "      <td>NaN</td>\n",
       "      <td>2022-04-16 19:05:56</td>\n",
       "    </tr>\n",
       "    <tr>\n",
       "      <th>1</th>\n",
       "      <td>1</td>\n",
       "      <td>Ushuaia</td>\n",
       "      <td>-54.8000</td>\n",
       "      <td>-68.3000</td>\n",
       "      <td>44.26</td>\n",
       "      <td>61</td>\n",
       "      <td>40</td>\n",
       "      <td>10.36</td>\n",
       "      <td>AR</td>\n",
       "      <td>2022-04-16 19:06:10</td>\n",
       "    </tr>\n",
       "    <tr>\n",
       "      <th>2</th>\n",
       "      <td>2</td>\n",
       "      <td>Vestmannaeyjar</td>\n",
       "      <td>63.4427</td>\n",
       "      <td>-20.2734</td>\n",
       "      <td>47.03</td>\n",
       "      <td>94</td>\n",
       "      <td>98</td>\n",
       "      <td>18.81</td>\n",
       "      <td>IS</td>\n",
       "      <td>2022-04-16 19:07:51</td>\n",
       "    </tr>\n",
       "    <tr>\n",
       "      <th>3</th>\n",
       "      <td>3</td>\n",
       "      <td>Bopfingen</td>\n",
       "      <td>48.8500</td>\n",
       "      <td>10.3500</td>\n",
       "      <td>43.75</td>\n",
       "      <td>47</td>\n",
       "      <td>8</td>\n",
       "      <td>10.20</td>\n",
       "      <td>DE</td>\n",
       "      <td>2022-04-16 19:07:52</td>\n",
       "    </tr>\n",
       "    <tr>\n",
       "      <th>5</th>\n",
       "      <td>5</td>\n",
       "      <td>Ekibastuz</td>\n",
       "      <td>51.6667</td>\n",
       "      <td>75.3667</td>\n",
       "      <td>60.30</td>\n",
       "      <td>44</td>\n",
       "      <td>99</td>\n",
       "      <td>11.65</td>\n",
       "      <td>KZ</td>\n",
       "      <td>2022-04-16 19:07:52</td>\n",
       "    </tr>\n",
       "    <tr>\n",
       "      <th>6</th>\n",
       "      <td>6</td>\n",
       "      <td>Cape Town</td>\n",
       "      <td>-33.9258</td>\n",
       "      <td>18.4232</td>\n",
       "      <td>63.12</td>\n",
       "      <td>63</td>\n",
       "      <td>0</td>\n",
       "      <td>11.01</td>\n",
       "      <td>ZA</td>\n",
       "      <td>2022-04-16 19:04:25</td>\n",
       "    </tr>\n",
       "    <tr>\n",
       "      <th>7</th>\n",
       "      <td>7</td>\n",
       "      <td>Colesberg</td>\n",
       "      <td>-30.7200</td>\n",
       "      <td>25.0972</td>\n",
       "      <td>53.28</td>\n",
       "      <td>90</td>\n",
       "      <td>100</td>\n",
       "      <td>15.28</td>\n",
       "      <td>ZA</td>\n",
       "      <td>2022-04-16 19:07:53</td>\n",
       "    </tr>\n",
       "    <tr>\n",
       "      <th>8</th>\n",
       "      <td>8</td>\n",
       "      <td>Ayna</td>\n",
       "      <td>-12.6500</td>\n",
       "      <td>-73.9167</td>\n",
       "      <td>70.88</td>\n",
       "      <td>70</td>\n",
       "      <td>65</td>\n",
       "      <td>4.03</td>\n",
       "      <td>PE</td>\n",
       "      <td>2022-04-16 19:07:54</td>\n",
       "    </tr>\n",
       "    <tr>\n",
       "      <th>10</th>\n",
       "      <td>10</td>\n",
       "      <td>Kruisfontein</td>\n",
       "      <td>-34.0033</td>\n",
       "      <td>24.7314</td>\n",
       "      <td>59.88</td>\n",
       "      <td>77</td>\n",
       "      <td>100</td>\n",
       "      <td>7.81</td>\n",
       "      <td>ZA</td>\n",
       "      <td>2022-04-16 19:04:33</td>\n",
       "    </tr>\n",
       "    <tr>\n",
       "      <th>11</th>\n",
       "      <td>11</td>\n",
       "      <td>East London</td>\n",
       "      <td>-33.0153</td>\n",
       "      <td>27.9116</td>\n",
       "      <td>62.31</td>\n",
       "      <td>74</td>\n",
       "      <td>100</td>\n",
       "      <td>7.96</td>\n",
       "      <td>ZA</td>\n",
       "      <td>2022-04-16 19:00:59</td>\n",
       "    </tr>\n",
       "  </tbody>\n",
       "</table>\n",
       "</div>"
      ],
      "text/plain": [
       "    City_ID            City      Lat      Lng  Max Temp  Humidity  Cloudiness  \\\n",
       "0         0      Oranjemund -28.5500  16.4333     59.76        74           0   \n",
       "1         1         Ushuaia -54.8000 -68.3000     44.26        61          40   \n",
       "2         2  Vestmannaeyjar  63.4427 -20.2734     47.03        94          98   \n",
       "3         3       Bopfingen  48.8500  10.3500     43.75        47           8   \n",
       "5         5       Ekibastuz  51.6667  75.3667     60.30        44          99   \n",
       "6         6       Cape Town -33.9258  18.4232     63.12        63           0   \n",
       "7         7       Colesberg -30.7200  25.0972     53.28        90         100   \n",
       "8         8            Ayna -12.6500 -73.9167     70.88        70          65   \n",
       "10       10    Kruisfontein -34.0033  24.7314     59.88        77         100   \n",
       "11       11     East London -33.0153  27.9116     62.31        74         100   \n",
       "\n",
       "    Wind Speed Country                 Date  \n",
       "0        13.82     NaN  2022-04-16 19:05:56  \n",
       "1        10.36      AR  2022-04-16 19:06:10  \n",
       "2        18.81      IS  2022-04-16 19:07:51  \n",
       "3        10.20      DE  2022-04-16 19:07:52  \n",
       "5        11.65      KZ  2022-04-16 19:07:52  \n",
       "6        11.01      ZA  2022-04-16 19:04:25  \n",
       "7        15.28      ZA  2022-04-16 19:07:53  \n",
       "8         4.03      PE  2022-04-16 19:07:54  \n",
       "10        7.81      ZA  2022-04-16 19:04:33  \n",
       "11        7.96      ZA  2022-04-16 19:00:59  "
      ]
     },
     "execution_count": 11,
     "metadata": {},
     "output_type": "execute_result"
    }
   ],
   "source": [
    "# Ask the customer to add a minimum and maximum temperature value.\n",
    "min_temp = float(input(\"What is the minimum temperature you would like for your trip? \"))\n",
    "max_temp = float(input(\"What is the maximum temperature you would like for your trip? \"))\n",
    "\n",
    "# Filter the dataset to find the cities that fit the criteria.\n",
    "preferred_cities_df = city_data_df.loc[(city_data_df[\"Max Temp\"] <= max_temp) & \\\n",
    "                                       (city_data_df[\"Max Temp\"] >= min_temp)]\n",
    "preferred_cities_df.head(10)"
   ]
  },
  {
   "cell_type": "code",
   "execution_count": 12,
   "id": "e3740913",
   "metadata": {},
   "outputs": [
    {
     "data": {
      "text/plain": [
       "City_ID       356\n",
       "City          356\n",
       "Lat           356\n",
       "Lng           356\n",
       "Max Temp      356\n",
       "Humidity      356\n",
       "Cloudiness    356\n",
       "Wind Speed    356\n",
       "Country       349\n",
       "Date          356\n",
       "dtype: int64"
      ]
     },
     "execution_count": 12,
     "metadata": {},
     "output_type": "execute_result"
    }
   ],
   "source": [
    "preferred_cities_df.count()"
   ]
  },
  {
   "cell_type": "code",
   "execution_count": 13,
   "id": "f893ce36",
   "metadata": {},
   "outputs": [
    {
     "data": {
      "text/html": [
       "<div>\n",
       "<style scoped>\n",
       "    .dataframe tbody tr th:only-of-type {\n",
       "        vertical-align: middle;\n",
       "    }\n",
       "\n",
       "    .dataframe tbody tr th {\n",
       "        vertical-align: top;\n",
       "    }\n",
       "\n",
       "    .dataframe thead th {\n",
       "        text-align: right;\n",
       "    }\n",
       "</style>\n",
       "<table border=\"1\" class=\"dataframe\">\n",
       "  <thead>\n",
       "    <tr style=\"text-align: right;\">\n",
       "      <th></th>\n",
       "      <th>City</th>\n",
       "      <th>Country</th>\n",
       "      <th>Max Temp</th>\n",
       "      <th>Lat</th>\n",
       "      <th>Lng</th>\n",
       "      <th>Hotel Name</th>\n",
       "    </tr>\n",
       "  </thead>\n",
       "  <tbody>\n",
       "    <tr>\n",
       "      <th>0</th>\n",
       "      <td>Oranjemund</td>\n",
       "      <td>NaN</td>\n",
       "      <td>59.76</td>\n",
       "      <td>-28.5500</td>\n",
       "      <td>16.4333</td>\n",
       "      <td></td>\n",
       "    </tr>\n",
       "    <tr>\n",
       "      <th>1</th>\n",
       "      <td>Ushuaia</td>\n",
       "      <td>AR</td>\n",
       "      <td>44.26</td>\n",
       "      <td>-54.8000</td>\n",
       "      <td>-68.3000</td>\n",
       "      <td></td>\n",
       "    </tr>\n",
       "    <tr>\n",
       "      <th>2</th>\n",
       "      <td>Vestmannaeyjar</td>\n",
       "      <td>IS</td>\n",
       "      <td>47.03</td>\n",
       "      <td>63.4427</td>\n",
       "      <td>-20.2734</td>\n",
       "      <td></td>\n",
       "    </tr>\n",
       "    <tr>\n",
       "      <th>3</th>\n",
       "      <td>Bopfingen</td>\n",
       "      <td>DE</td>\n",
       "      <td>43.75</td>\n",
       "      <td>48.8500</td>\n",
       "      <td>10.3500</td>\n",
       "      <td></td>\n",
       "    </tr>\n",
       "    <tr>\n",
       "      <th>5</th>\n",
       "      <td>Ekibastuz</td>\n",
       "      <td>KZ</td>\n",
       "      <td>60.30</td>\n",
       "      <td>51.6667</td>\n",
       "      <td>75.3667</td>\n",
       "      <td></td>\n",
       "    </tr>\n",
       "    <tr>\n",
       "      <th>6</th>\n",
       "      <td>Cape Town</td>\n",
       "      <td>ZA</td>\n",
       "      <td>63.12</td>\n",
       "      <td>-33.9258</td>\n",
       "      <td>18.4232</td>\n",
       "      <td></td>\n",
       "    </tr>\n",
       "    <tr>\n",
       "      <th>7</th>\n",
       "      <td>Colesberg</td>\n",
       "      <td>ZA</td>\n",
       "      <td>53.28</td>\n",
       "      <td>-30.7200</td>\n",
       "      <td>25.0972</td>\n",
       "      <td></td>\n",
       "    </tr>\n",
       "    <tr>\n",
       "      <th>8</th>\n",
       "      <td>Ayna</td>\n",
       "      <td>PE</td>\n",
       "      <td>70.88</td>\n",
       "      <td>-12.6500</td>\n",
       "      <td>-73.9167</td>\n",
       "      <td></td>\n",
       "    </tr>\n",
       "    <tr>\n",
       "      <th>10</th>\n",
       "      <td>Kruisfontein</td>\n",
       "      <td>ZA</td>\n",
       "      <td>59.88</td>\n",
       "      <td>-34.0033</td>\n",
       "      <td>24.7314</td>\n",
       "      <td></td>\n",
       "    </tr>\n",
       "    <tr>\n",
       "      <th>11</th>\n",
       "      <td>East London</td>\n",
       "      <td>ZA</td>\n",
       "      <td>62.31</td>\n",
       "      <td>-33.0153</td>\n",
       "      <td>27.9116</td>\n",
       "      <td></td>\n",
       "    </tr>\n",
       "  </tbody>\n",
       "</table>\n",
       "</div>"
      ],
      "text/plain": [
       "              City Country  Max Temp      Lat      Lng Hotel Name\n",
       "0       Oranjemund     NaN     59.76 -28.5500  16.4333           \n",
       "1          Ushuaia      AR     44.26 -54.8000 -68.3000           \n",
       "2   Vestmannaeyjar      IS     47.03  63.4427 -20.2734           \n",
       "3        Bopfingen      DE     43.75  48.8500  10.3500           \n",
       "5        Ekibastuz      KZ     60.30  51.6667  75.3667           \n",
       "6        Cape Town      ZA     63.12 -33.9258  18.4232           \n",
       "7        Colesberg      ZA     53.28 -30.7200  25.0972           \n",
       "8             Ayna      PE     70.88 -12.6500 -73.9167           \n",
       "10    Kruisfontein      ZA     59.88 -34.0033  24.7314           \n",
       "11     East London      ZA     62.31 -33.0153  27.9116           "
      ]
     },
     "execution_count": 13,
     "metadata": {},
     "output_type": "execute_result"
    }
   ],
   "source": [
    "# Create DataFrame called hotel_df to store hotel names along with city, country, max temp, and coordinates.\n",
    "hotel_df = preferred_cities_df[[\"City\", \"Country\", \"Max Temp\", \"Lat\", \"Lng\"]].copy()\n",
    "hotel_df[\"Hotel Name\"] = \"\"\n",
    "\n",
    "# Create the output file (CSV).\n",
    "output_data_file = \"weather_data/hotels.csv\"\n",
    "\n",
    "# Export the City_Data into a CSV.\n",
    "hotel_df.to_csv(output_data_file, index_label=\"City_ID\")\n",
    "\n",
    "hotel_df.head(10)"
   ]
  },
  {
   "cell_type": "code",
   "execution_count": 14,
   "id": "1ba01711",
   "metadata": {},
   "outputs": [],
   "source": [
    "# Set parameters to search for a hotel.\n",
    "params = {\n",
    "    \"radius\": 5000,\n",
    "    \"type\": \"lodging\",\n",
    "    \"key\": g_key\n",
    "}"
   ]
  }
 ],
 "metadata": {
  "kernelspec": {
   "display_name": "Python 3 (ipykernel)",
   "language": "python",
   "name": "python3"
  },
  "language_info": {
   "codemirror_mode": {
    "name": "ipython",
    "version": 3
   },
   "file_extension": ".py",
   "mimetype": "text/x-python",
   "name": "python",
   "nbconvert_exporter": "python",
   "pygments_lexer": "ipython3",
   "version": "3.9.7"
  }
 },
 "nbformat": 4,
 "nbformat_minor": 5
}
